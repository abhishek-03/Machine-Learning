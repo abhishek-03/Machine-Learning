{
 "cells": [
  {
   "cell_type": "code",
   "execution_count": 47,
   "metadata": {},
   "outputs": [],
   "source": [
    "import numpy as np\n",
    "import pandas as pd\n",
    "import matplotlib.pyplot as plt\n",
    "%matplotlib inline\n",
    "import seaborn as sns\n",
    "import warnings\n",
    "warnings.filterwarnings(\"ignore\")"
   ]
  },
  {
   "cell_type": "code",
   "execution_count": 48,
   "metadata": {},
   "outputs": [
    {
     "data": {
      "text/html": [
       "<div>\n",
       "<style scoped>\n",
       "    .dataframe tbody tr th:only-of-type {\n",
       "        vertical-align: middle;\n",
       "    }\n",
       "\n",
       "    .dataframe tbody tr th {\n",
       "        vertical-align: top;\n",
       "    }\n",
       "\n",
       "    .dataframe thead th {\n",
       "        text-align: right;\n",
       "    }\n",
       "</style>\n",
       "<table border=\"1\" class=\"dataframe\">\n",
       "  <thead>\n",
       "    <tr style=\"text-align: right;\">\n",
       "      <th></th>\n",
       "      <th>Country Name</th>\n",
       "      <th>Country Code</th>\n",
       "      <th>Year</th>\n",
       "      <th>Balance</th>\n",
       "      <th>Inflation</th>\n",
       "      <th>GDP</th>\n",
       "      <th>Exports</th>\n",
       "      <th>Trade</th>\n",
       "    </tr>\n",
       "  </thead>\n",
       "  <tbody>\n",
       "    <tr>\n",
       "      <th>0</th>\n",
       "      <td>Senegal</td>\n",
       "      <td>SEN</td>\n",
       "      <td>1983</td>\n",
       "      <td>-3.043829e+08</td>\n",
       "      <td>9.274213</td>\n",
       "      <td>-5.326393</td>\n",
       "      <td>6.180000e+08</td>\n",
       "      <td>59.224298</td>\n",
       "    </tr>\n",
       "    <tr>\n",
       "      <th>1</th>\n",
       "      <td>Togo</td>\n",
       "      <td>TGO</td>\n",
       "      <td>2009</td>\n",
       "      <td>-1.766692e+08</td>\n",
       "      <td>1.855275</td>\n",
       "      <td>3.510297</td>\n",
       "      <td>9.030260e+08</td>\n",
       "      <td>76.242542</td>\n",
       "    </tr>\n",
       "    <tr>\n",
       "      <th>2</th>\n",
       "      <td>Pakistan</td>\n",
       "      <td>PAK</td>\n",
       "      <td>1992</td>\n",
       "      <td>-1.876092e+09</td>\n",
       "      <td>10.057085</td>\n",
       "      <td>7.705898</td>\n",
       "      <td>7.351000e+09</td>\n",
       "      <td>34.489440</td>\n",
       "    </tr>\n",
       "    <tr>\n",
       "      <th>3</th>\n",
       "      <td>Nepal</td>\n",
       "      <td>NPL</td>\n",
       "      <td>1988</td>\n",
       "      <td>-2.714506e+08</td>\n",
       "      <td>11.815310</td>\n",
       "      <td>7.696809</td>\n",
       "      <td>1.900000e+08</td>\n",
       "      <td>24.978422</td>\n",
       "    </tr>\n",
       "    <tr>\n",
       "      <th>5</th>\n",
       "      <td>Malta</td>\n",
       "      <td>MLT</td>\n",
       "      <td>2016</td>\n",
       "      <td>7.269132e+08</td>\n",
       "      <td>1.604548</td>\n",
       "      <td>5.516617</td>\n",
       "      <td>3.017299e+09</td>\n",
       "      <td>83.781471</td>\n",
       "    </tr>\n",
       "  </tbody>\n",
       "</table>\n",
       "</div>"
      ],
      "text/plain": [
       "  Country Name Country Code  Year       Balance  Inflation       GDP  \\\n",
       "0      Senegal          SEN  1983 -3.043829e+08   9.274213 -5.326393   \n",
       "1         Togo          TGO  2009 -1.766692e+08   1.855275  3.510297   \n",
       "2     Pakistan          PAK  1992 -1.876092e+09  10.057085  7.705898   \n",
       "3        Nepal          NPL  1988 -2.714506e+08  11.815310  7.696809   \n",
       "5        Malta          MLT  2016  7.269132e+08   1.604548  5.516617   \n",
       "\n",
       "        Exports      Trade  \n",
       "0  6.180000e+08  59.224298  \n",
       "1  9.030260e+08  76.242542  \n",
       "2  7.351000e+09  34.489440  \n",
       "3  1.900000e+08  24.978422  \n",
       "5  3.017299e+09  83.781471  "
      ]
     },
     "execution_count": 48,
     "metadata": {},
     "output_type": "execute_result"
    }
   ],
   "source": [
    "train = pd.read_csv(\"final_train_data.csv\",index_col = 0)\n",
    "train.head()"
   ]
  },
  {
   "cell_type": "code",
   "execution_count": 49,
   "metadata": {},
   "outputs": [
    {
     "data": {
      "text/plain": [
       "(4506, 8)"
      ]
     },
     "execution_count": 49,
     "metadata": {},
     "output_type": "execute_result"
    }
   ],
   "source": [
    "train.shape"
   ]
  },
  {
   "cell_type": "code",
   "execution_count": 50,
   "metadata": {},
   "outputs": [
    {
     "data": {
      "text/html": [
       "<div>\n",
       "<style scoped>\n",
       "    .dataframe tbody tr th:only-of-type {\n",
       "        vertical-align: middle;\n",
       "    }\n",
       "\n",
       "    .dataframe tbody tr th {\n",
       "        vertical-align: top;\n",
       "    }\n",
       "\n",
       "    .dataframe thead th {\n",
       "        text-align: right;\n",
       "    }\n",
       "</style>\n",
       "<table border=\"1\" class=\"dataframe\">\n",
       "  <thead>\n",
       "    <tr style=\"text-align: right;\">\n",
       "      <th></th>\n",
       "      <th>count</th>\n",
       "      <th>unique</th>\n",
       "      <th>top</th>\n",
       "      <th>freq</th>\n",
       "      <th>mean</th>\n",
       "      <th>std</th>\n",
       "      <th>min</th>\n",
       "      <th>25%</th>\n",
       "      <th>50%</th>\n",
       "      <th>75%</th>\n",
       "      <th>max</th>\n",
       "    </tr>\n",
       "  </thead>\n",
       "  <tbody>\n",
       "    <tr>\n",
       "      <th>Country Name</th>\n",
       "      <td>4506</td>\n",
       "      <td>150</td>\n",
       "      <td>Israel</td>\n",
       "      <td>47</td>\n",
       "      <td>NaN</td>\n",
       "      <td>NaN</td>\n",
       "      <td>NaN</td>\n",
       "      <td>NaN</td>\n",
       "      <td>NaN</td>\n",
       "      <td>NaN</td>\n",
       "      <td>NaN</td>\n",
       "    </tr>\n",
       "    <tr>\n",
       "      <th>Country Code</th>\n",
       "      <td>4506</td>\n",
       "      <td>150</td>\n",
       "      <td>ISR</td>\n",
       "      <td>47</td>\n",
       "      <td>NaN</td>\n",
       "      <td>NaN</td>\n",
       "      <td>NaN</td>\n",
       "      <td>NaN</td>\n",
       "      <td>NaN</td>\n",
       "      <td>NaN</td>\n",
       "      <td>NaN</td>\n",
       "    </tr>\n",
       "    <tr>\n",
       "      <th>Year</th>\n",
       "      <td>4506</td>\n",
       "      <td>NaN</td>\n",
       "      <td>NaN</td>\n",
       "      <td>NaN</td>\n",
       "      <td>1996.32</td>\n",
       "      <td>12.1963</td>\n",
       "      <td>1960</td>\n",
       "      <td>1986</td>\n",
       "      <td>1997</td>\n",
       "      <td>2007</td>\n",
       "      <td>2016</td>\n",
       "    </tr>\n",
       "    <tr>\n",
       "      <th>Balance</th>\n",
       "      <td>4506</td>\n",
       "      <td>NaN</td>\n",
       "      <td>NaN</td>\n",
       "      <td>NaN</td>\n",
       "      <td>-5.13203e+08</td>\n",
       "      <td>3.56101e+10</td>\n",
       "      <td>-8.06e+11</td>\n",
       "      <td>-9.81187e+08</td>\n",
       "      <td>-1.60329e+08</td>\n",
       "      <td>2.88525e+07</td>\n",
       "      <td>4.21e+11</td>\n",
       "    </tr>\n",
       "    <tr>\n",
       "      <th>Inflation</th>\n",
       "      <td>4261</td>\n",
       "      <td>NaN</td>\n",
       "      <td>NaN</td>\n",
       "      <td>NaN</td>\n",
       "      <td>31.6135</td>\n",
       "      <td>353.818</td>\n",
       "      <td>-29.6911</td>\n",
       "      <td>2.4</td>\n",
       "      <td>6.18435</td>\n",
       "      <td>12.4097</td>\n",
       "      <td>13611.6</td>\n",
       "    </tr>\n",
       "    <tr>\n",
       "      <th>GDP</th>\n",
       "      <td>4262</td>\n",
       "      <td>NaN</td>\n",
       "      <td>NaN</td>\n",
       "      <td>NaN</td>\n",
       "      <td>3.64122</td>\n",
       "      <td>4.85098</td>\n",
       "      <td>-62.0759</td>\n",
       "      <td>1.48104</td>\n",
       "      <td>3.79997</td>\n",
       "      <td>6.05023</td>\n",
       "      <td>34.5</td>\n",
       "    </tr>\n",
       "    <tr>\n",
       "      <th>Exports</th>\n",
       "      <td>4490</td>\n",
       "      <td>NaN</td>\n",
       "      <td>NaN</td>\n",
       "      <td>NaN</td>\n",
       "      <td>4.33961e+10</td>\n",
       "      <td>1.44544e+11</td>\n",
       "      <td>2e+06</td>\n",
       "      <td>4.80426e+08</td>\n",
       "      <td>2.93014e+09</td>\n",
       "      <td>2.04478e+10</td>\n",
       "      <td>2.34e+12</td>\n",
       "    </tr>\n",
       "    <tr>\n",
       "      <th>Trade</th>\n",
       "      <td>4304</td>\n",
       "      <td>NaN</td>\n",
       "      <td>NaN</td>\n",
       "      <td>NaN</td>\n",
       "      <td>62.8893</td>\n",
       "      <td>46.754</td>\n",
       "      <td>7.92091</td>\n",
       "      <td>38.0963</td>\n",
       "      <td>52.4365</td>\n",
       "      <td>76.7458</td>\n",
       "      <td>957.784</td>\n",
       "    </tr>\n",
       "  </tbody>\n",
       "</table>\n",
       "</div>"
      ],
      "text/plain": [
       "             count unique     top freq         mean          std       min  \\\n",
       "Country Name  4506    150  Israel   47          NaN          NaN       NaN   \n",
       "Country Code  4506    150     ISR   47          NaN          NaN       NaN   \n",
       "Year          4506    NaN     NaN  NaN      1996.32      12.1963      1960   \n",
       "Balance       4506    NaN     NaN  NaN -5.13203e+08  3.56101e+10 -8.06e+11   \n",
       "Inflation     4261    NaN     NaN  NaN      31.6135      353.818  -29.6911   \n",
       "GDP           4262    NaN     NaN  NaN      3.64122      4.85098  -62.0759   \n",
       "Exports       4490    NaN     NaN  NaN  4.33961e+10  1.44544e+11     2e+06   \n",
       "Trade         4304    NaN     NaN  NaN      62.8893       46.754   7.92091   \n",
       "\n",
       "                      25%          50%          75%       max  \n",
       "Country Name          NaN          NaN          NaN       NaN  \n",
       "Country Code          NaN          NaN          NaN       NaN  \n",
       "Year                 1986         1997         2007      2016  \n",
       "Balance      -9.81187e+08 -1.60329e+08  2.88525e+07  4.21e+11  \n",
       "Inflation             2.4      6.18435      12.4097   13611.6  \n",
       "GDP               1.48104      3.79997      6.05023      34.5  \n",
       "Exports       4.80426e+08  2.93014e+09  2.04478e+10  2.34e+12  \n",
       "Trade             38.0963      52.4365      76.7458   957.784  "
      ]
     },
     "execution_count": 50,
     "metadata": {},
     "output_type": "execute_result"
    }
   ],
   "source": [
    "train.describe(include='all').T"
   ]
  },
  {
   "cell_type": "code",
   "execution_count": 51,
   "metadata": {},
   "outputs": [
    {
     "data": {
      "text/html": [
       "<div>\n",
       "<style scoped>\n",
       "    .dataframe tbody tr th:only-of-type {\n",
       "        vertical-align: middle;\n",
       "    }\n",
       "\n",
       "    .dataframe tbody tr th {\n",
       "        vertical-align: top;\n",
       "    }\n",
       "\n",
       "    .dataframe thead th {\n",
       "        text-align: right;\n",
       "    }\n",
       "</style>\n",
       "<table border=\"1\" class=\"dataframe\">\n",
       "  <thead>\n",
       "    <tr style=\"text-align: right;\">\n",
       "      <th></th>\n",
       "      <th>Year</th>\n",
       "      <th>Balance</th>\n",
       "      <th>Inflation</th>\n",
       "      <th>GDP</th>\n",
       "      <th>Exports</th>\n",
       "      <th>Trade</th>\n",
       "    </tr>\n",
       "  </thead>\n",
       "  <tbody>\n",
       "    <tr>\n",
       "      <th>count</th>\n",
       "      <td>4506.000000</td>\n",
       "      <td>4.506000e+03</td>\n",
       "      <td>4261.000000</td>\n",
       "      <td>4262.000000</td>\n",
       "      <td>4.490000e+03</td>\n",
       "      <td>4304.000000</td>\n",
       "    </tr>\n",
       "    <tr>\n",
       "      <th>mean</th>\n",
       "      <td>1996.315135</td>\n",
       "      <td>-5.132031e+08</td>\n",
       "      <td>31.613464</td>\n",
       "      <td>3.641224</td>\n",
       "      <td>4.339613e+10</td>\n",
       "      <td>62.889312</td>\n",
       "    </tr>\n",
       "    <tr>\n",
       "      <th>std</th>\n",
       "      <td>12.196291</td>\n",
       "      <td>3.561007e+10</td>\n",
       "      <td>353.817965</td>\n",
       "      <td>4.850978</td>\n",
       "      <td>1.445441e+11</td>\n",
       "      <td>46.753985</td>\n",
       "    </tr>\n",
       "    <tr>\n",
       "      <th>min</th>\n",
       "      <td>1960.000000</td>\n",
       "      <td>-8.060000e+11</td>\n",
       "      <td>-29.691067</td>\n",
       "      <td>-62.075920</td>\n",
       "      <td>2.000000e+06</td>\n",
       "      <td>7.920909</td>\n",
       "    </tr>\n",
       "    <tr>\n",
       "      <th>25%</th>\n",
       "      <td>1986.000000</td>\n",
       "      <td>-9.811873e+08</td>\n",
       "      <td>2.400000</td>\n",
       "      <td>1.481036</td>\n",
       "      <td>4.804255e+08</td>\n",
       "      <td>38.096321</td>\n",
       "    </tr>\n",
       "    <tr>\n",
       "      <th>50%</th>\n",
       "      <td>1997.000000</td>\n",
       "      <td>-1.603287e+08</td>\n",
       "      <td>6.184351</td>\n",
       "      <td>3.799969</td>\n",
       "      <td>2.930136e+09</td>\n",
       "      <td>52.436512</td>\n",
       "    </tr>\n",
       "    <tr>\n",
       "      <th>75%</th>\n",
       "      <td>2007.000000</td>\n",
       "      <td>2.885250e+07</td>\n",
       "      <td>12.409709</td>\n",
       "      <td>6.050231</td>\n",
       "      <td>2.044775e+10</td>\n",
       "      <td>76.745788</td>\n",
       "    </tr>\n",
       "    <tr>\n",
       "      <th>max</th>\n",
       "      <td>2016.000000</td>\n",
       "      <td>4.210000e+11</td>\n",
       "      <td>13611.634820</td>\n",
       "      <td>34.500000</td>\n",
       "      <td>2.340000e+12</td>\n",
       "      <td>957.784011</td>\n",
       "    </tr>\n",
       "  </tbody>\n",
       "</table>\n",
       "</div>"
      ],
      "text/plain": [
       "              Year       Balance     Inflation          GDP       Exports  \\\n",
       "count  4506.000000  4.506000e+03   4261.000000  4262.000000  4.490000e+03   \n",
       "mean   1996.315135 -5.132031e+08     31.613464     3.641224  4.339613e+10   \n",
       "std      12.196291  3.561007e+10    353.817965     4.850978  1.445441e+11   \n",
       "min    1960.000000 -8.060000e+11    -29.691067   -62.075920  2.000000e+06   \n",
       "25%    1986.000000 -9.811873e+08      2.400000     1.481036  4.804255e+08   \n",
       "50%    1997.000000 -1.603287e+08      6.184351     3.799969  2.930136e+09   \n",
       "75%    2007.000000  2.885250e+07     12.409709     6.050231  2.044775e+10   \n",
       "max    2016.000000  4.210000e+11  13611.634820    34.500000  2.340000e+12   \n",
       "\n",
       "             Trade  \n",
       "count  4304.000000  \n",
       "mean     62.889312  \n",
       "std      46.753985  \n",
       "min       7.920909  \n",
       "25%      38.096321  \n",
       "50%      52.436512  \n",
       "75%      76.745788  \n",
       "max     957.784011  "
      ]
     },
     "execution_count": 51,
     "metadata": {},
     "output_type": "execute_result"
    }
   ],
   "source": [
    "train.describe()"
   ]
  },
  {
   "cell_type": "code",
   "execution_count": 52,
   "metadata": {},
   "outputs": [
    {
     "data": {
      "text/plain": [
       "Country Name      0\n",
       "Country Code      0\n",
       "Year              0\n",
       "Balance           0\n",
       "Inflation       245\n",
       "GDP             244\n",
       "Exports          16\n",
       "Trade           202\n",
       "dtype: int64"
      ]
     },
     "execution_count": 52,
     "metadata": {},
     "output_type": "execute_result"
    }
   ],
   "source": [
    "train.isnull().sum()"
   ]
  },
  {
   "cell_type": "code",
   "execution_count": 53,
   "metadata": {},
   "outputs": [
    {
     "name": "stdout",
     "output_type": "stream",
     "text": [
      "For the feature Country Name there are 150 values\n",
      "\n",
      "['Senegal' 'Togo' 'Pakistan' 'Nepal' 'Malta' 'Israel' 'Argentina'\n",
      " 'Botswana' 'Thailand' 'Swaziland' 'Tanzania' 'Congo, Rep.' 'Fiji'\n",
      " 'Uganda' 'Seychelles' 'Burundi' 'Barbados' 'Saudi Arabia' 'Colombia'\n",
      " 'Kuwait' 'Grenada' 'Denmark' 'Estonia' 'Guinea-Bissau' 'Greece' 'Canada'\n",
      " 'Tonga' 'Bolivia' 'Antigua and Barbuda' 'El Salvador' 'Tunisia'\n",
      " 'Netherlands' 'Trinidad and Tobago' 'Egypt, Arab Rep.' 'Malaysia' 'Libya'\n",
      " 'St. Vincent and the Grenadines' 'Kiribati' 'Namibia' 'Germany' 'Lesotho'\n",
      " 'Maldives' 'St. Lucia' 'Panama' 'Algeria' 'Zambia' 'Brazil' 'Lao PDR'\n",
      " 'Ukraine' 'Guyana' 'Benin' 'Costa Rica' 'Sweden' 'Singapore' 'Niger'\n",
      " 'Paraguay' 'Poland' 'Korea, Rep.' 'India' 'St. Kitts and Nevis'\n",
      " 'Cambodia' 'Japan' 'Bangladesh' 'Dominican Republic' 'Aruba'\n",
      " 'Bahamas, The' 'Cabo Verde' 'United Kingdom' 'Azerbaijan'\n",
      " 'Solomon Islands' 'Ethiopia' 'Slovenia' 'Gambia, The' 'Hungary' 'Mali'\n",
      " 'Honduras' 'Madagascar' 'Mexico' 'Armenia' 'Cameroon' 'Mongolia' 'Kenya'\n",
      " 'Indonesia' 'Italy' 'Nicaragua' 'Zimbabwe' 'Oman' 'Spain' 'Bulgaria'\n",
      " 'United States' 'Turkey' 'Haiti' 'Philippines' 'Guatemala' 'Guinea'\n",
      " 'Macedonia, FYR' 'Belarus' 'Uruguay' 'Venezuela, RB' 'Liberia' 'Jordan'\n",
      " 'Djibouti' 'Czech Republic' 'Mauritius' 'Bahrain' 'Ghana' 'Vanuatu'\n",
      " 'Moldova' 'Myanmar' 'France' 'Romania' 'Sudan' 'Malawi' 'Norway'\n",
      " 'Portugal' 'Croatia' 'Jamaica' 'Sao Tome and Principe' 'South Africa'\n",
      " 'Dominica' 'Vietnam' 'Finland' 'Comoros' 'Angola' 'Morocco' 'Samoa'\n",
      " 'Syrian Arab Republic' 'Australia' 'Slovak Republic' 'Cyprus' 'Belize'\n",
      " 'Sierra Leone' 'Albania' 'Papua New Guinea' 'Sri Lanka' 'Switzerland'\n",
      " 'China' 'Iran, Islamic Rep.' 'Russian Federation' 'Kazakhstan' 'Peru'\n",
      " 'Nigeria' 'Latvia' 'Gabon' 'Chile' 'Lithuania' 'Iceland'\n",
      " 'Kyrgyz Republic' 'Mauritania' 'Ecuador']\n",
      "--------------------------\n",
      "\n",
      "For the feature Country Code there are 150 values\n",
      "\n",
      "['SEN' 'TGO' 'PAK' 'NPL' 'MLT' 'ISR' 'ARG' 'BWA' 'THA' 'SWZ' 'TZA' 'COG'\n",
      " 'FJI' 'UGA' 'SYC' 'BDI' 'BRB' 'SAU' 'COL' 'KWT' 'GRD' 'DNK' 'EST' 'GNB'\n",
      " 'GRC' 'CAN' 'TON' 'BOL' 'ATG' 'SLV' 'TUN' 'NLD' 'TTO' 'EGY' 'MYS' 'LBY'\n",
      " 'VCT' 'KIR' 'NAM' 'DEU' 'LSO' 'MDV' 'LCA' 'PAN' 'DZA' 'ZMB' 'BRA' 'LAO'\n",
      " 'UKR' 'GUY' 'BEN' 'CRI' 'SWE' 'SGP' 'NER' 'PRY' 'POL' 'KOR' 'IND' 'KNA'\n",
      " 'KHM' 'JPN' 'BGD' 'DOM' 'ABW' 'BHS' 'CPV' 'GBR' 'AZE' 'SLB' 'ETH' 'SVN'\n",
      " 'GMB' 'HUN' 'MLI' 'HND' 'MDG' 'MEX' 'ARM' 'CMR' 'MNG' 'KEN' 'IDN' 'ITA'\n",
      " 'NIC' 'ZWE' 'OMN' 'ESP' 'BGR' 'USA' 'TUR' 'HTI' 'PHL' 'GTM' 'GIN' 'MKD'\n",
      " 'BLR' 'URY' 'VEN' 'LBR' 'JOR' 'DJI' 'CZE' 'MUS' 'BHR' 'GHA' 'VUT' 'MDA'\n",
      " 'MMR' 'FRA' 'ROU' 'SDN' 'MWI' 'NOR' 'PRT' 'HRV' 'JAM' 'STP' 'ZAF' 'DMA'\n",
      " 'VNM' 'FIN' 'COM' 'AGO' 'MAR' 'WSM' 'SYR' 'AUS' 'SVK' 'CYP' 'BLZ' 'SLE'\n",
      " 'ALB' 'PNG' 'LKA' 'CHE' 'CHN' 'IRN' 'RUS' 'KAZ' 'PER' 'NGA' 'LVA' 'GAB'\n",
      " 'CHL' 'LTU' 'ISL' 'KGZ' 'MRT' 'ECU']\n",
      "--------------------------\n",
      "\n",
      "For the feature Year there are 57 values\n",
      "\n",
      "[1983 2009 1992 1988 2016 2006 1990 2008 2013 2011 2014 1993 1979 2005\n",
      " 2007 1996 2000 1977 1982 1999 1998 1975 2015 1978 2001 1974 2004 1997\n",
      " 2012 1972 1991 1987 1984 1994 2010 1985 2002 2003 1981 1986 1970 1980\n",
      " 1995 1976 1989 1973 1963 1971 1968 1964 1960 1961 1967 1969 1965 1962\n",
      " 1966]\n",
      "--------------------------\n",
      "\n",
      "For the feature Balance there are 4485 values\n",
      "\n",
      "[-3.04382939e+08 -1.76669246e+08 -1.87609223e+09 ... -1.87909538e+07\n",
      " -3.99100000e+08 -1.63513619e+09]\n",
      "--------------------------\n",
      "\n",
      "For the feature Inflation there are 4262 values\n",
      "\n",
      "[ 9.27421286  1.85527462 10.0570845  ...  2.48181751  4.97795461\n",
      "  0.37978566]\n",
      "--------------------------\n",
      "\n",
      "For the feature GDP there are 4257 values\n",
      "\n",
      "[-5.32639272  3.51029668  7.70589782 ...  2.18543886 -3.53008901\n",
      "  5.9907606 ]\n",
      "--------------------------\n",
      "\n",
      "For the feature Exports there are 3839 values\n",
      "\n",
      "[6.180000e+08 9.030260e+08 7.351000e+09 ... 9.720400e+10 1.120000e+09\n",
      " 4.067071e+09]\n",
      "--------------------------\n",
      "\n",
      "For the feature Trade there are 4305 values\n",
      "\n",
      "[ 59.2242981   76.24254179  34.48943971 ...  52.15702796  28.77136729\n",
      " 101.6664886 ]\n",
      "--------------------------\n",
      "\n"
     ]
    }
   ],
   "source": [
    "columns=['Country Name','Country Code','Year', 'Balance','Inflation', 'GDP','Exports','Trade']\n",
    "for i in columns:\n",
    "    print('For the feature',i, 'there are',len(train[i].unique()),'values')\n",
    "    print()\n",
    "    print(train[i].unique())\n",
    "    print('--------------------------')\n",
    "    print()"
   ]
  },
  {
   "cell_type": "code",
   "execution_count": 54,
   "metadata": {},
   "outputs": [],
   "source": [
    "#train['Exports'] = train['Exports'].apply(lambda x : round(x,4))"
   ]
  },
  {
   "cell_type": "code",
   "execution_count": 55,
   "metadata": {},
   "outputs": [],
   "source": [
    "#train.head(2)"
   ]
  },
  {
   "cell_type": "code",
   "execution_count": 56,
   "metadata": {},
   "outputs": [
    {
     "data": {
      "text/plain": [
       "<matplotlib.axes._subplots.AxesSubplot at 0xc470959e80>"
      ]
     },
     "execution_count": 56,
     "metadata": {},
     "output_type": "execute_result"
    },
    {
     "data": {
      "image/png": "[encoded data removed]",
      "text/plain": [
       "<Figure size 432x288 with 1 Axes>"
      ]
     },
     "metadata": {
      "needs_background": "light"
     },
     "output_type": "display_data"
    }
   ],
   "source": [
    "sns.distplot(train['Balance'],bins=100)"
   ]
  },
  {
   "cell_type": "code",
   "execution_count": 57,
   "metadata": {},
   "outputs": [],
   "source": [
    "train['GDP_Growth']=train['GDP']-train['Inflation']\n",
    "train['Exports_TradeOff']=(1-train['Trade']/100)*train['Exports']"
   ]
  },
  {
   "cell_type": "code",
   "execution_count": 58,
   "metadata": {},
   "outputs": [],
   "source": [
    "train.shape\n",
    "\n",
    "n_columns=['Inflation', 'GDP', 'Exports', 'Trade', 'GDP_Growth','Exports_TradeOff']"
   ]
  },
  {
   "cell_type": "code",
   "execution_count": 59,
   "metadata": {},
   "outputs": [
    {
     "data": {
      "text/html": [
       "<div>\n",
       "<style scoped>\n",
       "    .dataframe tbody tr th:only-of-type {\n",
       "        vertical-align: middle;\n",
       "    }\n",
       "\n",
       "    .dataframe tbody tr th {\n",
       "        vertical-align: top;\n",
       "    }\n",
       "\n",
       "    .dataframe thead th {\n",
       "        text-align: right;\n",
       "    }\n",
       "</style>\n",
       "<table border=\"1\" class=\"dataframe\">\n",
       "  <thead>\n",
       "    <tr style=\"text-align: right;\">\n",
       "      <th></th>\n",
       "      <th>Country Name</th>\n",
       "      <th>Country Code</th>\n",
       "      <th>Year</th>\n",
       "      <th>Balance</th>\n",
       "      <th>Inflation</th>\n",
       "      <th>GDP</th>\n",
       "      <th>Exports</th>\n",
       "      <th>Trade</th>\n",
       "      <th>GDP_Growth</th>\n",
       "      <th>Exports_TradeOff</th>\n",
       "    </tr>\n",
       "  </thead>\n",
       "  <tbody>\n",
       "    <tr>\n",
       "      <th>0</th>\n",
       "      <td>Senegal</td>\n",
       "      <td>SEN</td>\n",
       "      <td>1983</td>\n",
       "      <td>-304382939.0</td>\n",
       "      <td>9.274213</td>\n",
       "      <td>-5.326393</td>\n",
       "      <td>618000000.0</td>\n",
       "      <td>59.224298</td>\n",
       "      <td>-14.600606</td>\n",
       "      <td>2.519938e+08</td>\n",
       "    </tr>\n",
       "    <tr>\n",
       "      <th>1</th>\n",
       "      <td>Togo</td>\n",
       "      <td>TGO</td>\n",
       "      <td>2009</td>\n",
       "      <td>-176669246.3</td>\n",
       "      <td>1.855275</td>\n",
       "      <td>3.510297</td>\n",
       "      <td>903026000.0</td>\n",
       "      <td>76.242542</td>\n",
       "      <td>1.655022</td>\n",
       "      <td>2.145360e+08</td>\n",
       "    </tr>\n",
       "  </tbody>\n",
       "</table>\n",
       "</div>"
      ],
      "text/plain": [
       "  Country Name Country Code  Year      Balance  Inflation       GDP  \\\n",
       "0      Senegal          SEN  1983 -304382939.0   9.274213 -5.326393   \n",
       "1         Togo          TGO  2009 -176669246.3   1.855275  3.510297   \n",
       "\n",
       "       Exports      Trade  GDP_Growth  Exports_TradeOff  \n",
       "0  618000000.0  59.224298  -14.600606      2.519938e+08  \n",
       "1  903026000.0  76.242542    1.655022      2.145360e+08  "
      ]
     },
     "execution_count": 59,
     "metadata": {},
     "output_type": "execute_result"
    }
   ],
   "source": [
    "train.head(2)"
   ]
  },
  {
   "cell_type": "code",
   "execution_count": 60,
   "metadata": {},
   "outputs": [],
   "source": [
    "for i in n_columns:\n",
    "    train[i].fillna(train[i].mean(),inplace = True)"
   ]
  },
  {
   "cell_type": "code",
   "execution_count": 61,
   "metadata": {},
   "outputs": [
    {
     "data": {
      "text/plain": [
       "Country Name        0\n",
       "Country Code        0\n",
       "Year                0\n",
       "Balance             0\n",
       "Inflation           0\n",
       "GDP                 0\n",
       "Exports             0\n",
       "Trade               0\n",
       "GDP_Growth          0\n",
       "Exports_TradeOff    0\n",
       "dtype: int64"
      ]
     },
     "execution_count": 61,
     "metadata": {},
     "output_type": "execute_result"
    }
   ],
   "source": [
    "train.isnull().sum()"
   ]
  },
  {
   "cell_type": "code",
   "execution_count": 62,
   "metadata": {},
   "outputs": [],
   "source": [
    "from sklearn.preprocessing import RobustScaler,StandardScaler,Normalizer\n",
    "train[n_columns]=RobustScaler().fit_transform(train[n_columns])"
   ]
  },
  {
   "cell_type": "code",
   "execution_count": 63,
   "metadata": {},
   "outputs": [
    {
     "name": "stdout",
     "output_type": "stream",
     "text": [
      "<class 'pandas.core.frame.DataFrame'>\n",
      "Int64Index: 4506 entries, 0 to 5703\n",
      "Data columns (total 10 columns):\n",
      "Country Name        4506 non-null object\n",
      "Country Code        4506 non-null object\n",
      "Year                4506 non-null int64\n",
      "Balance             4506 non-null float64\n",
      "Inflation           4506 non-null float64\n",
      "GDP                 4506 non-null float64\n",
      "Exports             4506 non-null float64\n",
      "Trade               4506 non-null float64\n",
      "GDP_Growth          4506 non-null float64\n",
      "Exports_TradeOff    4506 non-null float64\n",
      "dtypes: float64(7), int64(1), object(2)\n",
      "memory usage: 387.2+ KB\n"
     ]
    }
   ],
   "source": [
    "train.info()"
   ]
  },
  {
   "cell_type": "code",
   "execution_count": 64,
   "metadata": {},
   "outputs": [],
   "source": [
    "#sns.pairplot(train)"
   ]
  },
  {
   "cell_type": "code",
   "execution_count": 65,
   "metadata": {},
   "outputs": [
    {
     "data": {
      "text/html": [
       "<div>\n",
       "<style scoped>\n",
       "    .dataframe tbody tr th:only-of-type {\n",
       "        vertical-align: middle;\n",
       "    }\n",
       "\n",
       "    .dataframe tbody tr th {\n",
       "        vertical-align: top;\n",
       "    }\n",
       "\n",
       "    .dataframe thead th {\n",
       "        text-align: right;\n",
       "    }\n",
       "</style>\n",
       "<table border=\"1\" class=\"dataframe\">\n",
       "  <thead>\n",
       "    <tr style=\"text-align: right;\">\n",
       "      <th></th>\n",
       "      <th>Country Name</th>\n",
       "      <th>Country Code</th>\n",
       "      <th>Year</th>\n",
       "      <th>Balance</th>\n",
       "      <th>Inflation</th>\n",
       "      <th>GDP</th>\n",
       "      <th>Exports</th>\n",
       "      <th>Trade</th>\n",
       "      <th>GDP_Growth</th>\n",
       "      <th>Exports_TradeOff</th>\n",
       "    </tr>\n",
       "  </thead>\n",
       "  <tbody>\n",
       "    <tr>\n",
       "      <th>0</th>\n",
       "      <td>Senegal</td>\n",
       "      <td>SEN</td>\n",
       "      <td>1983</td>\n",
       "      <td>-304382939.0</td>\n",
       "      <td>0.218946</td>\n",
       "      <td>-2.093427</td>\n",
       "      <td>-0.115420</td>\n",
       "      <td>0.146618</td>\n",
       "      <td>-0.891716</td>\n",
       "      <td>-0.050848</td>\n",
       "    </tr>\n",
       "    <tr>\n",
       "      <th>1</th>\n",
       "      <td>Togo</td>\n",
       "      <td>TGO</td>\n",
       "      <td>2009</td>\n",
       "      <td>-176669246.3</td>\n",
       "      <td>-0.403319</td>\n",
       "      <td>-0.030564</td>\n",
       "      <td>-0.101508</td>\n",
       "      <td>0.612021</td>\n",
       "      <td>0.358476</td>\n",
       "      <td>-0.054379</td>\n",
       "    </tr>\n",
       "  </tbody>\n",
       "</table>\n",
       "</div>"
      ],
      "text/plain": [
       "  Country Name Country Code  Year      Balance  Inflation       GDP   Exports  \\\n",
       "0      Senegal          SEN  1983 -304382939.0   0.218946 -2.093427 -0.115420   \n",
       "1         Togo          TGO  2009 -176669246.3  -0.403319 -0.030564 -0.101508   \n",
       "\n",
       "      Trade  GDP_Growth  Exports_TradeOff  \n",
       "0  0.146618   -0.891716         -0.050848  \n",
       "1  0.612021    0.358476         -0.054379  "
      ]
     },
     "execution_count": 65,
     "metadata": {},
     "output_type": "execute_result"
    }
   ],
   "source": [
    "train.head(2)"
   ]
  },
  {
   "cell_type": "code",
   "execution_count": 66,
   "metadata": {},
   "outputs": [
    {
     "data": {
      "text/plain": [
       "Country Name        0\n",
       "Country Code        0\n",
       "Year                0\n",
       "Balance             0\n",
       "Inflation           0\n",
       "GDP                 0\n",
       "Exports             0\n",
       "Trade               0\n",
       "GDP_Growth          0\n",
       "Exports_TradeOff    0\n",
       "dtype: int64"
      ]
     },
     "execution_count": 66,
     "metadata": {},
     "output_type": "execute_result"
    }
   ],
   "source": [
    "train.isnull().sum()"
   ]
  },
  {
   "cell_type": "code",
   "execution_count": 67,
   "metadata": {},
   "outputs": [
    {
     "data": {
      "text/plain": [
       "array([0, 1], dtype=int64)"
      ]
     },
     "execution_count": 67,
     "metadata": {},
     "output_type": "execute_result"
    }
   ],
   "source": [
    "categorical_features_indices = np.where(train.dtypes =='object')[0]\n",
    "categorical_features_indices"
   ]
  },
  {
   "cell_type": "code",
   "execution_count": 68,
   "metadata": {},
   "outputs": [
    {
     "data": {
      "text/html": [
       "<div>\n",
       "<style scoped>\n",
       "    .dataframe tbody tr th:only-of-type {\n",
       "        vertical-align: middle;\n",
       "    }\n",
       "\n",
       "    .dataframe tbody tr th {\n",
       "        vertical-align: top;\n",
       "    }\n",
       "\n",
       "    .dataframe thead th {\n",
       "        text-align: right;\n",
       "    }\n",
       "</style>\n",
       "<table border=\"1\" class=\"dataframe\">\n",
       "  <thead>\n",
       "    <tr style=\"text-align: right;\">\n",
       "      <th></th>\n",
       "      <th>Country Name</th>\n",
       "      <th>Country Code</th>\n",
       "      <th>Year</th>\n",
       "      <th>Inflation</th>\n",
       "      <th>GDP</th>\n",
       "      <th>Exports</th>\n",
       "      <th>Trade</th>\n",
       "      <th>GDP_Growth</th>\n",
       "      <th>Exports_TradeOff</th>\n",
       "    </tr>\n",
       "  </thead>\n",
       "  <tbody>\n",
       "    <tr>\n",
       "      <th>0</th>\n",
       "      <td>Senegal</td>\n",
       "      <td>SEN</td>\n",
       "      <td>1983</td>\n",
       "      <td>0.218946</td>\n",
       "      <td>-2.093427</td>\n",
       "      <td>-0.115420</td>\n",
       "      <td>0.146618</td>\n",
       "      <td>-0.891716</td>\n",
       "      <td>-0.050848</td>\n",
       "    </tr>\n",
       "    <tr>\n",
       "      <th>1</th>\n",
       "      <td>Togo</td>\n",
       "      <td>TGO</td>\n",
       "      <td>2009</td>\n",
       "      <td>-0.403319</td>\n",
       "      <td>-0.030564</td>\n",
       "      <td>-0.101508</td>\n",
       "      <td>0.612021</td>\n",
       "      <td>0.358476</td>\n",
       "      <td>-0.054379</td>\n",
       "    </tr>\n",
       "    <tr>\n",
       "      <th>2</th>\n",
       "      <td>Pakistan</td>\n",
       "      <td>PAK</td>\n",
       "      <td>1992</td>\n",
       "      <td>0.284610</td>\n",
       "      <td>0.948869</td>\n",
       "      <td>0.213215</td>\n",
       "      <td>-0.529813</td>\n",
       "      <td>0.050365</td>\n",
       "      <td>0.379375</td>\n",
       "    </tr>\n",
       "    <tr>\n",
       "      <th>3</th>\n",
       "      <td>Nepal</td>\n",
       "      <td>NPL</td>\n",
       "      <td>1988</td>\n",
       "      <td>0.432082</td>\n",
       "      <td>0.946748</td>\n",
       "      <td>-0.136311</td>\n",
       "      <td>-0.789914</td>\n",
       "      <td>-0.085556</td>\n",
       "      <td>-0.061166</td>\n",
       "    </tr>\n",
       "    <tr>\n",
       "      <th>5</th>\n",
       "      <td>Malta</td>\n",
       "      <td>MLT</td>\n",
       "      <td>2016</td>\n",
       "      <td>-0.424349</td>\n",
       "      <td>0.437797</td>\n",
       "      <td>0.001689</td>\n",
       "      <td>0.818190</td>\n",
       "      <td>0.532061</td>\n",
       "      <td>-0.028471</td>\n",
       "    </tr>\n",
       "  </tbody>\n",
       "</table>\n",
       "</div>"
      ],
      "text/plain": [
       "  Country Name Country Code  Year  Inflation       GDP   Exports     Trade  \\\n",
       "0      Senegal          SEN  1983   0.218946 -2.093427 -0.115420  0.146618   \n",
       "1         Togo          TGO  2009  -0.403319 -0.030564 -0.101508  0.612021   \n",
       "2     Pakistan          PAK  1992   0.284610  0.948869  0.213215 -0.529813   \n",
       "3        Nepal          NPL  1988   0.432082  0.946748 -0.136311 -0.789914   \n",
       "5        Malta          MLT  2016  -0.424349  0.437797  0.001689  0.818190   \n",
       "\n",
       "   GDP_Growth  Exports_TradeOff  \n",
       "0   -0.891716         -0.050848  \n",
       "1    0.358476         -0.054379  \n",
       "2    0.050365          0.379375  \n",
       "3   -0.085556         -0.061166  \n",
       "5    0.532061         -0.028471  "
      ]
     },
     "execution_count": 68,
     "metadata": {},
     "output_type": "execute_result"
    }
   ],
   "source": [
    "build = train.drop('Balance',axis=1)\n",
    "build.head()"
   ]
  },
  {
   "cell_type": "code",
   "execution_count": 69,
   "metadata": {},
   "outputs": [
    {
     "data": {
      "text/plain": [
       "0   -3.043829e+08\n",
       "1   -1.766692e+08\n",
       "2   -1.876092e+09\n",
       "3   -2.714506e+08\n",
       "5    7.269132e+08\n",
       "Name: Balance, dtype: float64"
      ]
     },
     "execution_count": 69,
     "metadata": {},
     "output_type": "execute_result"
    }
   ],
   "source": [
    "labels = train.iloc[:,3]\n",
    "labels.head()"
   ]
  },
  {
   "cell_type": "code",
   "execution_count": 70,
   "metadata": {},
   "outputs": [],
   "source": [
    "from catboost import CatBoostClassifier,Pool, cv,CatBoostRegressor"
   ]
  },
  {
   "cell_type": "code",
   "execution_count": 71,
   "metadata": {},
   "outputs": [],
   "source": [
    "###pip install catboost"
   ]
  },
  {
   "cell_type": "code",
   "execution_count": 72,
   "metadata": {},
   "outputs": [
    {
     "data": {
      "text/plain": [
       "<catboost.core.CatBoostRegressor at 0xc4711550f0>"
      ]
     },
     "execution_count": 72,
     "metadata": {},
     "output_type": "execute_result"
    }
   ],
   "source": [
    "model = CatBoostRegressor(n_estimators=1000,learning_rate=0.1,loss_function='RMSE',eval_metric='RMSE',random_seed=1994,od_type='Iter',\n",
    "od_wait=50)\n",
    "model.fit(build,labels,cat_features=categorical_features_indices,use_best_model=False,verbose=False)"
   ]
  },
  {
   "cell_type": "code",
   "execution_count": 73,
   "metadata": {},
   "outputs": [
    {
     "data": {
      "text/plain": [
       "array([-1.42231848e+08,  2.24288006e+08, -1.76416882e+09, ...,\n",
       "        9.87091165e+08, -9.42790024e+08,  4.25183081e+08])"
      ]
     },
     "execution_count": 73,
     "metadata": {},
     "output_type": "execute_result"
    }
   ],
   "source": [
    "y_predict = model.predict(build)\n",
    "y_predict"
   ]
  },
  {
   "cell_type": "markdown",
   "metadata": {},
   "source": [
    "# Test Set"
   ]
  },
  {
   "cell_type": "code",
   "execution_count": 74,
   "metadata": {},
   "outputs": [
    {
     "data": {
      "text/html": [
       "<div>\n",
       "<style scoped>\n",
       "    .dataframe tbody tr th:only-of-type {\n",
       "        vertical-align: middle;\n",
       "    }\n",
       "\n",
       "    .dataframe tbody tr th {\n",
       "        vertical-align: top;\n",
       "    }\n",
       "\n",
       "    .dataframe thead th {\n",
       "        text-align: right;\n",
       "    }\n",
       "</style>\n",
       "<table border=\"1\" class=\"dataframe\">\n",
       "  <thead>\n",
       "    <tr style=\"text-align: right;\">\n",
       "      <th></th>\n",
       "      <th>Country Name</th>\n",
       "      <th>Country Code</th>\n",
       "      <th>Year</th>\n",
       "      <th>Inflation</th>\n",
       "      <th>GDP</th>\n",
       "      <th>Exports</th>\n",
       "      <th>Trade</th>\n",
       "    </tr>\n",
       "  </thead>\n",
       "  <tbody>\n",
       "    <tr>\n",
       "      <th>0</th>\n",
       "      <td>Cyprus</td>\n",
       "      <td>CYP</td>\n",
       "      <td>2001</td>\n",
       "      <td>3.657166</td>\n",
       "      <td>3.600665</td>\n",
       "      <td>9.760000e+08</td>\n",
       "      <td>46.359979</td>\n",
       "    </tr>\n",
       "    <tr>\n",
       "      <th>1</th>\n",
       "      <td>Benin</td>\n",
       "      <td>BEN</td>\n",
       "      <td>1995</td>\n",
       "      <td>15.099452</td>\n",
       "      <td>6.045199</td>\n",
       "      <td>4.200000e+08</td>\n",
       "      <td>53.726740</td>\n",
       "    </tr>\n",
       "    <tr>\n",
       "      <th>2</th>\n",
       "      <td>Bangladesh</td>\n",
       "      <td>BGD</td>\n",
       "      <td>1995</td>\n",
       "      <td>7.144939</td>\n",
       "      <td>5.121278</td>\n",
       "      <td>3.501000e+09</td>\n",
       "      <td>26.871554</td>\n",
       "    </tr>\n",
       "    <tr>\n",
       "      <th>3</th>\n",
       "      <td>Paraguay</td>\n",
       "      <td>PRY</td>\n",
       "      <td>1978</td>\n",
       "      <td>9.706191</td>\n",
       "      <td>12.028730</td>\n",
       "      <td>2.569700e+08</td>\n",
       "      <td>27.230654</td>\n",
       "    </tr>\n",
       "    <tr>\n",
       "      <th>4</th>\n",
       "      <td>Morocco</td>\n",
       "      <td>MAR</td>\n",
       "      <td>1987</td>\n",
       "      <td>3.014808</td>\n",
       "      <td>-0.325004</td>\n",
       "      <td>2.826000e+09</td>\n",
       "      <td>32.418633</td>\n",
       "    </tr>\n",
       "  </tbody>\n",
       "</table>\n",
       "</div>"
      ],
      "text/plain": [
       "  Country Name Country Code  Year  Inflation        GDP       Exports  \\\n",
       "0       Cyprus          CYP  2001   3.657166   3.600665  9.760000e+08   \n",
       "1        Benin          BEN  1995  15.099452   6.045199  4.200000e+08   \n",
       "2   Bangladesh          BGD  1995   7.144939   5.121278  3.501000e+09   \n",
       "3     Paraguay          PRY  1978   9.706191  12.028730  2.569700e+08   \n",
       "4      Morocco          MAR  1987   3.014808  -0.325004  2.826000e+09   \n",
       "\n",
       "       Trade  \n",
       "0  46.359979  \n",
       "1  53.726740  \n",
       "2  26.871554  \n",
       "3  27.230654  \n",
       "4  32.418633  "
      ]
     },
     "execution_count": 74,
     "metadata": {},
     "output_type": "execute_result"
    }
   ],
   "source": [
    "test = pd.read_csv(\"final_test_data.csv\",index_col=0)\n",
    "test.head()"
   ]
  },
  {
   "cell_type": "code",
   "execution_count": 75,
   "metadata": {},
   "outputs": [
    {
     "data": {
      "text/plain": [
       "Country Name    0\n",
       "Country Code    0\n",
       "Year            0\n",
       "Inflation       0\n",
       "GDP             0\n",
       "Exports         0\n",
       "Trade           0\n",
       "dtype: int64"
      ]
     },
     "execution_count": 75,
     "metadata": {},
     "output_type": "execute_result"
    }
   ],
   "source": [
    "test.isnull().sum()"
   ]
  },
  {
   "cell_type": "code",
   "execution_count": 76,
   "metadata": {},
   "outputs": [],
   "source": [
    "test['GDP_Growth']=test['GDP']-test['Inflation']\n",
    "test['Exports_TradeOff']=(1-test['Trade']/100)*test['Exports']"
   ]
  },
  {
   "cell_type": "code",
   "execution_count": 77,
   "metadata": {},
   "outputs": [
    {
     "data": {
      "text/plain": [
       "(1071, 9)"
      ]
     },
     "execution_count": 77,
     "metadata": {},
     "output_type": "execute_result"
    }
   ],
   "source": [
    "test.shape\n",
    "\n",
    "#n_cols=['Inflation', 'GDP', 'Exports', 'Trade', 'GDP_Growth','Exports_TradeOff']"
   ]
  },
  {
   "cell_type": "code",
   "execution_count": 78,
   "metadata": {},
   "outputs": [
    {
     "data": {
      "text/html": [
       "<div>\n",
       "<style scoped>\n",
       "    .dataframe tbody tr th:only-of-type {\n",
       "        vertical-align: middle;\n",
       "    }\n",
       "\n",
       "    .dataframe tbody tr th {\n",
       "        vertical-align: top;\n",
       "    }\n",
       "\n",
       "    .dataframe thead th {\n",
       "        text-align: right;\n",
       "    }\n",
       "</style>\n",
       "<table border=\"1\" class=\"dataframe\">\n",
       "  <thead>\n",
       "    <tr style=\"text-align: right;\">\n",
       "      <th></th>\n",
       "      <th>Country Name</th>\n",
       "      <th>Country Code</th>\n",
       "      <th>Year</th>\n",
       "      <th>Inflation</th>\n",
       "      <th>GDP</th>\n",
       "      <th>Exports</th>\n",
       "      <th>Trade</th>\n",
       "      <th>GDP_Growth</th>\n",
       "      <th>Exports_TradeOff</th>\n",
       "    </tr>\n",
       "  </thead>\n",
       "  <tbody>\n",
       "    <tr>\n",
       "      <th>0</th>\n",
       "      <td>Cyprus</td>\n",
       "      <td>CYP</td>\n",
       "      <td>2001</td>\n",
       "      <td>3.657166</td>\n",
       "      <td>3.600665</td>\n",
       "      <td>976000000.0</td>\n",
       "      <td>46.359979</td>\n",
       "      <td>-0.056501</td>\n",
       "      <td>5.235266e+08</td>\n",
       "    </tr>\n",
       "    <tr>\n",
       "      <th>1</th>\n",
       "      <td>Benin</td>\n",
       "      <td>BEN</td>\n",
       "      <td>1995</td>\n",
       "      <td>15.099452</td>\n",
       "      <td>6.045199</td>\n",
       "      <td>420000000.0</td>\n",
       "      <td>53.726740</td>\n",
       "      <td>-9.054253</td>\n",
       "      <td>1.943477e+08</td>\n",
       "    </tr>\n",
       "  </tbody>\n",
       "</table>\n",
       "</div>"
      ],
      "text/plain": [
       "  Country Name Country Code  Year  Inflation       GDP      Exports  \\\n",
       "0       Cyprus          CYP  2001   3.657166  3.600665  976000000.0   \n",
       "1        Benin          BEN  1995  15.099452  6.045199  420000000.0   \n",
       "\n",
       "       Trade  GDP_Growth  Exports_TradeOff  \n",
       "0  46.359979   -0.056501      5.235266e+08  \n",
       "1  53.726740   -9.054253      1.943477e+08  "
      ]
     },
     "execution_count": 78,
     "metadata": {},
     "output_type": "execute_result"
    }
   ],
   "source": [
    "test.head(2)"
   ]
  },
  {
   "cell_type": "code",
   "execution_count": 79,
   "metadata": {},
   "outputs": [],
   "source": [
    "from sklearn.preprocessing import RobustScaler,StandardScaler,Normalizer\n",
    "test[n_columns]=RobustScaler().fit_transform(test[n_columns])"
   ]
  },
  {
   "cell_type": "code",
   "execution_count": 80,
   "metadata": {},
   "outputs": [
    {
     "name": "stdout",
     "output_type": "stream",
     "text": [
      "<class 'pandas.core.frame.DataFrame'>\n",
      "Int64Index: 1071 entries, 0 to 1070\n",
      "Data columns (total 9 columns):\n",
      "Country Name        1071 non-null object\n",
      "Country Code        1071 non-null object\n",
      "Year                1071 non-null int64\n",
      "Inflation           1071 non-null float64\n",
      "GDP                 1071 non-null float64\n",
      "Exports             1071 non-null float64\n",
      "Trade               1071 non-null float64\n",
      "GDP_Growth          1071 non-null float64\n",
      "Exports_TradeOff    1071 non-null float64\n",
      "dtypes: float64(6), int64(1), object(2)\n",
      "memory usage: 83.7+ KB\n"
     ]
    }
   ],
   "source": [
    "test.info()"
   ]
  },
  {
   "cell_type": "code",
   "execution_count": 81,
   "metadata": {},
   "outputs": [
    {
     "data": {
      "text/plain": [
       "array([0, 1], dtype=int64)"
      ]
     },
     "execution_count": 81,
     "metadata": {},
     "output_type": "execute_result"
    }
   ],
   "source": [
    "categorical_features_indices1 = np.where(test.dtypes =='object')[0]\n",
    "categorical_features_indices1"
   ]
  },
  {
   "cell_type": "code",
   "execution_count": 82,
   "metadata": {},
   "outputs": [
    {
     "data": {
      "text/plain": [
       "array([-2.47732040e+09,  8.57554235e+08, -1.69103446e+08, ...,\n",
       "        1.43739312e+08,  1.40905290e+08,  5.65161802e+08])"
      ]
     },
     "execution_count": 82,
     "metadata": {},
     "output_type": "execute_result"
    }
   ],
   "source": [
    "answer = model.predict(test)\n",
    "answer"
   ]
  },
  {
   "cell_type": "code",
   "execution_count": 83,
   "metadata": {},
   "outputs": [
    {
     "data": {
      "text/html": [
       "<div>\n",
       "<style scoped>\n",
       "    .dataframe tbody tr th:only-of-type {\n",
       "        vertical-align: middle;\n",
       "    }\n",
       "\n",
       "    .dataframe tbody tr th {\n",
       "        vertical-align: top;\n",
       "    }\n",
       "\n",
       "    .dataframe thead th {\n",
       "        text-align: right;\n",
       "    }\n",
       "</style>\n",
       "<table border=\"1\" class=\"dataframe\">\n",
       "  <thead>\n",
       "    <tr style=\"text-align: right;\">\n",
       "      <th></th>\n",
       "      <th>Balance</th>\n",
       "    </tr>\n",
       "  </thead>\n",
       "  <tbody>\n",
       "    <tr>\n",
       "      <th>0</th>\n",
       "      <td>-2.477320e+09</td>\n",
       "    </tr>\n",
       "    <tr>\n",
       "      <th>1</th>\n",
       "      <td>8.575542e+08</td>\n",
       "    </tr>\n",
       "    <tr>\n",
       "      <th>2</th>\n",
       "      <td>-1.691034e+08</td>\n",
       "    </tr>\n",
       "    <tr>\n",
       "      <th>3</th>\n",
       "      <td>-9.280676e+08</td>\n",
       "    </tr>\n",
       "    <tr>\n",
       "      <th>4</th>\n",
       "      <td>-1.924585e+09</td>\n",
       "    </tr>\n",
       "  </tbody>\n",
       "</table>\n",
       "</div>"
      ],
      "text/plain": [
       "        Balance\n",
       "0 -2.477320e+09\n",
       "1  8.575542e+08\n",
       "2 -1.691034e+08\n",
       "3 -9.280676e+08\n",
       "4 -1.924585e+09"
      ]
     },
     "execution_count": 83,
     "metadata": {},
     "output_type": "execute_result"
    }
   ],
   "source": [
    "answer_df = pd.DataFrame(answer)\n",
    "answer_df.columns=['Balance']\n",
    "answer_df.head()"
   ]
  },
  {
   "cell_type": "code",
   "execution_count": 84,
   "metadata": {},
   "outputs": [
    {
     "data": {
      "text/plain": [
       "1071"
      ]
     },
     "execution_count": 84,
     "metadata": {},
     "output_type": "execute_result"
    }
   ],
   "source": [
    "len(answer_df)"
   ]
  },
  {
   "cell_type": "code",
   "execution_count": 86,
   "metadata": {},
   "outputs": [
    {
     "data": {
      "text/plain": [
       "(1071, 10)"
      ]
     },
     "execution_count": 86,
     "metadata": {},
     "output_type": "execute_result"
    }
   ],
   "source": [
    "test1 = pd.concat([test,answer_df],axis =1)\n",
    "test1.shape"
   ]
  },
  {
   "cell_type": "code",
   "execution_count": 91,
   "metadata": {},
   "outputs": [],
   "source": [
    "Excel = pd.ExcelWriter('Answer.xlsx')\n",
    "answer_df.to_excel(Excel,'Answer',index = False)\n",
    "Excel.save()"
   ]
  },
  {
   "cell_type": "code",
   "execution_count": null,
   "metadata": {},
   "outputs": [],
   "source": []
  }
 ],
 "metadata": {
  "kernelspec": {
   "display_name": "Python 3",
   "language": "python",
   "name": "python3"
  },
  "language_info": {
   "codemirror_mode": {
    "name": "ipython",
    "version": 3
   },
   "file_extension": ".py",
   "mimetype": "text/x-python",
   "name": "python",
   "nbconvert_exporter": "python",
   "pygments_lexer": "ipython3",
   "version": "3.7.3"
  }
 },
 "nbformat": 4,
 "nbformat_minor": 2
}
