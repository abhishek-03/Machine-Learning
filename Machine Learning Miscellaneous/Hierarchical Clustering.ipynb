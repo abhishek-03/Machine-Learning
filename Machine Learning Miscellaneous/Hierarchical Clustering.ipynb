{
 "cells": [
  {
   "cell_type": "code",
   "execution_count": 64,
   "metadata": {},
   "outputs": [],
   "source": [
    "from sklearn.datasets import make_blobs, make_circles\n",
    "from scipy.cluster.hierarchy import linkage, dendrogram , cut_tree\n",
    "import pandas as pd\n",
    "import matplotlib.pyplot as plt"
   ]
  },
  {
   "cell_type": "code",
   "execution_count": 65,
   "metadata": {
    "collapsed": true
   },
   "outputs": [],
   "source": [
    "some_data, cluster1 = make_blobs(n_samples= 20, n_features =2, random_state = 12345, centers =2)\n",
    "some_data1 , cluster1 = make_circles(n_samples = 100, random_state = 12345)"
   ]
  },
  {
   "cell_type": "code",
   "execution_count": 66,
   "metadata": {},
   "outputs": [
    {
     "data": {
      "text/plain": [
       "array([[ 10.55810243,  -2.27908308],\n",
       "       [  9.59951121,  -4.96871002],\n",
       "       [ 11.84126578,  -4.69371643],\n",
       "       [ -6.32068349,  -4.56498464],\n",
       "       [ -7.86361929,  -6.87953034],\n",
       "       [ -7.58755826,  -5.7889673 ],\n",
       "       [ -8.69185542,  -7.76955522],\n",
       "       [  8.68522973,  -3.39074276],\n",
       "       [ -6.89871107,  -5.78467315],\n",
       "       [  6.59068455,  -4.04433145],\n",
       "       [ -7.38513621,  -5.57591171],\n",
       "       [ -7.18238116,  -5.34864914],\n",
       "       [ -6.0190102 ,  -5.38502236],\n",
       "       [  8.05258041,  -3.1955039 ],\n",
       "       [  8.86731349,  -3.44357603],\n",
       "       [  9.36134442,  -2.42605417],\n",
       "       [ -7.03516775,  -6.73994797],\n",
       "       [  9.94523869,  -2.78605957],\n",
       "       [ 10.26134717,  -4.11105864],\n",
       "       [ -8.68104257,  -6.10833738]])"
      ]
     },
     "execution_count": 66,
     "metadata": {},
     "output_type": "execute_result"
    }
   ],
   "source": [
    "some_data"
   ]
  },
  {
   "cell_type": "code",
   "execution_count": 67,
   "metadata": {
    "scrolled": true
   },
   "outputs": [
    {
     "data": {
      "text/plain": [
       "array([[ -5.83174902e-01,   5.47637685e-01],\n",
       "       [ -5.35826795e-01,  -8.44327926e-01],\n",
       "       [ -1.49905052e-01,  -7.85829801e-01],\n",
       "       [  2.47213595e-01,   7.60845213e-01],\n",
       "       [ -8.09016994e-01,   5.87785252e-01],\n",
       "       [  9.92114701e-01,  -1.25333234e-01],\n",
       "       [ -5.02324156e-02,   7.98421383e-01],\n",
       "       [  5.35826795e-01,  -8.44327926e-01],\n",
       "       [  5.02324156e-02,  -7.98421383e-01],\n",
       "       [ -3.09016994e-01,  -9.51056516e-01],\n",
       "       [ -9.29776486e-01,  -3.68124553e-01],\n",
       "       [  8.76306680e-01,   4.81753674e-01],\n",
       "       [ -7.43821189e-01,  -2.94499642e-01],\n",
       "       [ -6.27905195e-02,   9.98026728e-01],\n",
       "       [  7.93691761e-01,   1.00266587e-01],\n",
       "       [  4.25779292e-01,   9.04827052e-01],\n",
       "       [  3.09016994e-01,  -9.51056516e-01],\n",
       "       [ -2.47213595e-01,   7.60845213e-01],\n",
       "       [ -1.00000000e+00,  -3.21624530e-16],\n",
       "       [ -8.00000000e-01,  -2.57299624e-16],\n",
       "       [  4.28661436e-01,  -6.75462340e-01],\n",
       "       [  8.09016994e-01,  -5.87785252e-01],\n",
       "       [  9.29776486e-01,  -3.68124553e-01],\n",
       "       [ -5.02324156e-02,  -7.98421383e-01],\n",
       "       [  5.35826795e-01,   8.44327926e-01],\n",
       "       [  8.00000000e-01,   0.00000000e+00],\n",
       "       [  8.76306680e-01,  -4.81753674e-01],\n",
       "       [ -7.93691761e-01,  -1.00266587e-01],\n",
       "       [  1.87381315e-01,  -9.82287251e-01],\n",
       "       [  9.68583161e-01,   2.48689887e-01],\n",
       "       [  7.28968627e-01,   6.84547106e-01],\n",
       "       [  7.01045344e-01,   3.85402939e-01],\n",
       "       [ -7.01045344e-01,   3.85402939e-01],\n",
       "       [  7.74866529e-01,   1.98951910e-01],\n",
       "       [ -8.09016994e-01,  -5.87785252e-01],\n",
       "       [ -6.27905195e-02,  -9.98026728e-01],\n",
       "       [  5.09939192e-01,   6.16410594e-01],\n",
       "       [ -9.92114701e-01,  -1.25333234e-01],\n",
       "       [  1.00000000e+00,   0.00000000e+00],\n",
       "       [ -5.35826795e-01,   8.44327926e-01],\n",
       "       [ -3.40623433e-01,  -7.23861642e-01],\n",
       "       [ -8.76306680e-01,   4.81753674e-01],\n",
       "       [ -7.01045344e-01,  -3.85402939e-01],\n",
       "       [  5.02324156e-02,   7.98421383e-01],\n",
       "       [ -6.37423990e-01,   7.70513243e-01],\n",
       "       [  6.47213595e-01,  -4.70228202e-01],\n",
       "       [  9.68583161e-01,  -2.48689887e-01],\n",
       "       [ -9.29776486e-01,   3.68124553e-01],\n",
       "       [  4.28661436e-01,   6.75462340e-01],\n",
       "       [ -2.47213595e-01,  -7.60845213e-01],\n",
       "       [ -7.93691761e-01,   1.00266587e-01],\n",
       "       [  1.49905052e-01,  -7.85829801e-01],\n",
       "       [ -6.37423990e-01,  -7.70513243e-01],\n",
       "       [ -9.92114701e-01,   1.25333234e-01],\n",
       "       [ -4.28661436e-01,  -6.75462340e-01],\n",
       "       [ -9.68583161e-01,  -2.48689887e-01],\n",
       "       [ -4.25779292e-01,   9.04827052e-01],\n",
       "       [ -5.09939192e-01,   6.16410594e-01],\n",
       "       [  6.27905195e-02,   9.98026728e-01],\n",
       "       [ -7.28968627e-01,   6.84547106e-01],\n",
       "       [  3.40623433e-01,  -7.23861642e-01],\n",
       "       [ -7.43821189e-01,   2.94499642e-01],\n",
       "       [  7.28968627e-01,  -6.84547106e-01],\n",
       "       [ -3.40623433e-01,   7.23861642e-01],\n",
       "       [ -4.28661436e-01,   6.75462340e-01],\n",
       "       [  7.43821189e-01,   2.94499642e-01],\n",
       "       [  5.83174902e-01,  -5.47637685e-01],\n",
       "       [ -6.47213595e-01,   4.70228202e-01],\n",
       "       [  2.47213595e-01,  -7.60845213e-01],\n",
       "       [ -3.09016994e-01,   9.51056516e-01],\n",
       "       [  8.09016994e-01,   5.87785252e-01],\n",
       "       [  9.29776486e-01,   3.68124553e-01],\n",
       "       [ -1.49905052e-01,   7.85829801e-01],\n",
       "       [  7.01045344e-01,  -3.85402939e-01],\n",
       "       [  1.49905052e-01,   7.85829801e-01],\n",
       "       [ -7.28968627e-01,  -6.84547106e-01],\n",
       "       [  6.47213595e-01,   4.70228202e-01],\n",
       "       [  5.83174902e-01,   5.47637685e-01],\n",
       "       [  5.09939192e-01,  -6.16410594e-01],\n",
       "       [ -9.68583161e-01,   2.48689887e-01],\n",
       "       [  6.37423990e-01,  -7.70513243e-01],\n",
       "       [  6.37423990e-01,   7.70513243e-01],\n",
       "       [  6.27905195e-02,  -9.98026728e-01],\n",
       "       [ -5.09939192e-01,  -6.16410594e-01],\n",
       "       [ -5.83174902e-01,  -5.47637685e-01],\n",
       "       [  3.09016994e-01,   9.51056516e-01],\n",
       "       [ -7.74866529e-01,  -1.98951910e-01],\n",
       "       [  1.87381315e-01,   9.82287251e-01],\n",
       "       [ -7.74866529e-01,   1.98951910e-01],\n",
       "       [ -6.47213595e-01,  -4.70228202e-01],\n",
       "       [ -1.87381315e-01,   9.82287251e-01],\n",
       "       [  3.40623433e-01,   7.23861642e-01],\n",
       "       [  7.43821189e-01,  -2.94499642e-01],\n",
       "       [  7.93691761e-01,  -1.00266587e-01],\n",
       "       [ -4.25779292e-01,  -9.04827052e-01],\n",
       "       [  4.25779292e-01,  -9.04827052e-01],\n",
       "       [ -1.87381315e-01,  -9.82287251e-01],\n",
       "       [  9.92114701e-01,   1.25333234e-01],\n",
       "       [ -8.76306680e-01,  -4.81753674e-01],\n",
       "       [  7.74866529e-01,  -1.98951910e-01]])"
      ]
     },
     "execution_count": 67,
     "metadata": {},
     "output_type": "execute_result"
    }
   ],
   "source": [
    "some_data1"
   ]
  },
  {
   "cell_type": "code",
   "execution_count": 68,
   "metadata": {},
   "outputs": [
    {
     "data": {
      "image/png": "[encoded data removed]",
      "text/plain": [
       "<matplotlib.figure.Figure at 0x5306d74828>"
      ]
     },
     "metadata": {},
     "output_type": "display_data"
    },
    {
     "data": {
      "image/png": "[encoded data removed]",
      "text/plain": [
       "<matplotlib.figure.Figure at 0x5306339908>"
      ]
     },
     "metadata": {},
     "output_type": "display_data"
    }
   ],
   "source": [
    "plt.scatter(some_data[:,0], some_data[:,1])\n",
    "plt.show()\n",
    "plt.scatter(some_data1[:,0], some_data1[:,1])\n",
    "plt.show()"
   ]
  },
  {
   "cell_type": "code",
   "execution_count": 69,
   "metadata": {},
   "outputs": [],
   "source": [
    "links = linkage(y = some_data , method = 'complete')"
   ]
  },
  {
   "cell_type": "code",
   "execution_count": 70,
   "metadata": {},
   "outputs": [
    {
     "data": {
      "text/plain": [
       "array([[  7.        ,  14.        ,   0.18959391,   2.        ],\n",
       "       [  5.        ,  10.        ,   0.29388326,   2.        ],\n",
       "       [  8.        ,  11.        ,   0.5201785 ,   2.        ],\n",
       "       [ 15.        ,  17.        ,   0.68595656,   2.        ],\n",
       "       [ 21.        ,  22.        ,   0.68886057,   4.        ],\n",
       "       [  4.        ,  16.        ,   0.84012808,   2.        ],\n",
       "       [ 13.        ,  20.        ,   0.85166295,   3.        ],\n",
       "       [  3.        ,  12.        ,   0.87376693,   2.        ],\n",
       "       [  1.        ,  18.        ,   1.08332484,   2.        ],\n",
       "       [  0.        ,  23.        ,   1.20574882,   3.        ],\n",
       "       [  6.        ,  19.        ,   1.66125302,   2.        ],\n",
       "       [ 24.        ,  25.        ,   1.67561411,   6.        ],\n",
       "       [  2.        ,  28.        ,   2.25855817,   3.        ],\n",
       "       [  9.        ,  26.        ,   2.35455865,   4.        ],\n",
       "       [ 27.        ,  31.        ,   2.78168523,   8.        ],\n",
       "       [ 29.        ,  32.        ,   3.36040207,   6.        ],\n",
       "       [ 30.        ,  34.        ,   3.98644314,  10.        ],\n",
       "       [ 33.        ,  35.        ,   5.29058637,  10.        ],\n",
       "       [ 36.        ,  37.        ,  20.76222171,  20.        ]])"
      ]
     },
     "execution_count": 70,
     "metadata": {},
     "output_type": "execute_result"
    }
   ],
   "source": [
    "links  #first cluster , 2nd cluster , distance b/w two cluster , num of data points in cluster"
   ]
  },
  {
   "cell_type": "code",
   "execution_count": 71,
   "metadata": {},
   "outputs": [
    {
     "data": {
      "image/png": "[encoded data removed]",
      "text/plain": [
       "<matplotlib.figure.Figure at 0x5306b1ff98>"
      ]
     },
     "metadata": {},
     "output_type": "display_data"
    }
   ],
   "source": [
    "dendrogram(links)\n",
    "plt.show()"
   ]
  },
  {
   "cell_type": "code",
   "execution_count": 72,
   "metadata": {},
   "outputs": [
    {
     "name": "stdout",
     "output_type": "stream",
     "text": [
      "[[0]\n",
      " [0]\n",
      " [0]\n",
      " [1]\n",
      " [1]\n",
      " [1]\n",
      " [1]\n",
      " [0]\n",
      " [1]\n",
      " [0]\n",
      " [1]\n",
      " [1]\n",
      " [1]\n",
      " [0]\n",
      " [0]\n",
      " [0]\n",
      " [1]\n",
      " [0]\n",
      " [0]\n",
      " [1]]\n"
     ]
    }
   ],
   "source": [
    "c = cut_tree ( links, height = 10)\n",
    "print(c)"
   ]
  },
  {
   "cell_type": "code",
   "execution_count": 73,
   "metadata": {
    "collapsed": true
   },
   "outputs": [],
   "source": [
    "import numpy as np"
   ]
  },
  {
   "cell_type": "code",
   "execution_count": 74,
   "metadata": {},
   "outputs": [],
   "source": [
    "some_data_outlier = np.vstack([some_data,np.array([30.098,40.234])])  #adding outlier"
   ]
  },
  {
   "cell_type": "code",
   "execution_count": 75,
   "metadata": {
    "collapsed": true
   },
   "outputs": [],
   "source": [
    "links_outlier = linkage(some_data_outlier, method = 'complete')"
   ]
  },
  {
   "cell_type": "code",
   "execution_count": 76,
   "metadata": {},
   "outputs": [
    {
     "data": {
      "image/png": "[encoded data removed]",
      "text/plain": [
       "<matplotlib.figure.Figure at 0x5306a56a20>"
      ]
     },
     "metadata": {},
     "output_type": "display_data"
    }
   ],
   "source": [
    "dendrogram(links_outlier)\n",
    "plt.show()"
   ]
  },
  {
   "cell_type": "code",
   "execution_count": 77,
   "metadata": {
    "collapsed": true
   },
   "outputs": [],
   "source": [
    "link_circle = linkage(some_data1 , method = 'complete')"
   ]
  },
  {
   "cell_type": "code",
   "execution_count": 78,
   "metadata": {},
   "outputs": [
    {
     "data": {
      "image/png": "[encoded data removed]",
      "text/plain": [
       "<matplotlib.figure.Figure at 0x5306da8128>"
      ]
     },
     "metadata": {},
     "output_type": "display_data"
    }
   ],
   "source": [
    "dendrogram(link_circle)\n",
    "plt.show()"
   ]
  },
  {
   "cell_type": "code",
   "execution_count": 79,
   "metadata": {
    "collapsed": true
   },
   "outputs": [],
   "source": [
    "link_circle = linkage(some_data1 , method = 'single')"
   ]
  },
  {
   "cell_type": "code",
   "execution_count": 80,
   "metadata": {},
   "outputs": [
    {
     "data": {
      "image/png": "[encoded data removed]",
      "text/plain": [
       "<matplotlib.figure.Figure at 0x5306b806a0>"
      ]
     },
     "metadata": {},
     "output_type": "display_data"
    }
   ],
   "source": [
    "dendrogram(link_circle)\n",
    "plt.show()"
   ]
  },
  {
   "cell_type": "code",
   "execution_count": 87,
   "metadata": {
    "collapsed": true
   },
   "outputs": [],
   "source": [
    "c2 = cut_tree (link_circle , height = 0.175)"
   ]
  },
  {
   "cell_type": "code",
   "execution_count": 88,
   "metadata": {
    "collapsed": true
   },
   "outputs": [],
   "source": [
    "c2 = c1.flatten()"
   ]
  },
  {
   "cell_type": "code",
   "execution_count": 90,
   "metadata": {},
   "outputs": [
    {
     "data": {
      "image/png": "[encoded data removed]",
      "text/plain": [
       "<matplotlib.figure.Figure at 0x53072cdfd0>"
      ]
     },
     "metadata": {},
     "output_type": "display_data"
    }
   ],
   "source": [
    "s=2\n",
    "plt.scatter(some_data1[c2==0,0],some_data1[c2== 0,1])\n",
    "plt.scatter(some_data1[c2==1,0],some_data1[c2== 1,1], c = 'red')\n",
    "plt.show()"
   ]
  },
  {
   "cell_type": "code",
   "execution_count": null,
   "metadata": {},
   "outputs": [],
   "source": []
  },
  {
   "cell_type": "code",
   "execution_count": null,
   "metadata": {
    "collapsed": true
   },
   "outputs": [],
   "source": []
  }
 ],
 "metadata": {
  "kernelspec": {
   "display_name": "Python 3",
   "language": "python",
   "name": "python3"
  },
  "language_info": {
   "codemirror_mode": {
    "name": "ipython",
    "version": 3
   },
   "file_extension": ".py",
   "mimetype": "text/x-python",
   "name": "python",
   "nbconvert_exporter": "python",
   "pygments_lexer": "ipython3",
   "version": "3.6.3"
  }
 },
 "nbformat": 4,
 "nbformat_minor": 2
}
