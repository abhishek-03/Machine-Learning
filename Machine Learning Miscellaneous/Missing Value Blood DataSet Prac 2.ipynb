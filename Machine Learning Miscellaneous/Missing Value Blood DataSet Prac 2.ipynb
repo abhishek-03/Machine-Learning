{
 "cells": [
  {
   "cell_type": "code",
   "execution_count": 8,
   "metadata": {},
   "outputs": [
    {
     "name": "stderr",
     "output_type": "stream",
     "text": [
      "Using TensorFlow backend.\n"
     ]
    }
   ],
   "source": [
    "import numpy as np\n",
    "import pandas as pd\n",
    "import matplotlib.pyplot as plt\n",
    "import scipy as sci\n",
    "import missingno as mn\n",
    "import fancyimpute\n",
    "from sklearn.preprocessing import Imputer\n",
    "from mpl_toolkits.mplot3d import Axes3D\n",
    "%matplotlib inline"
   ]
  },
  {
   "cell_type": "code",
   "execution_count": 9,
   "metadata": {},
   "outputs": [
    {
     "data": {
      "text/html": [
       "<div>\n",
       "<style>\n",
       "    .dataframe thead tr:only-child th {\n",
       "        text-align: right;\n",
       "    }\n",
       "\n",
       "    .dataframe thead th {\n",
       "        text-align: left;\n",
       "    }\n",
       "\n",
       "    .dataframe tbody tr th {\n",
       "        vertical-align: top;\n",
       "    }\n",
       "</style>\n",
       "<table border=\"1\" class=\"dataframe\">\n",
       "  <thead>\n",
       "    <tr style=\"text-align: right;\">\n",
       "      <th></th>\n",
       "      <th>SrNo</th>\n",
       "      <th>Gender</th>\n",
       "      <th>BloodGroup</th>\n",
       "      <th>Age</th>\n",
       "      <th>WBC</th>\n",
       "      <th>RBC</th>\n",
       "      <th>Chol</th>\n",
       "    </tr>\n",
       "  </thead>\n",
       "  <tbody>\n",
       "    <tr>\n",
       "      <th>1</th>\n",
       "      <td>1</td>\n",
       "      <td>Female</td>\n",
       "      <td>AB</td>\n",
       "      <td>Young</td>\n",
       "      <td>7710.0</td>\n",
       "      <td>7.40</td>\n",
       "      <td>258.0</td>\n",
       "    </tr>\n",
       "    <tr>\n",
       "      <th>2</th>\n",
       "      <td>2</td>\n",
       "      <td>Male</td>\n",
       "      <td>AB</td>\n",
       "      <td>Old</td>\n",
       "      <td>6560.0</td>\n",
       "      <td>4.70</td>\n",
       "      <td>NaN</td>\n",
       "    </tr>\n",
       "    <tr>\n",
       "      <th>3</th>\n",
       "      <td>3</td>\n",
       "      <td>Male</td>\n",
       "      <td>A</td>\n",
       "      <td>Young</td>\n",
       "      <td>5690.0</td>\n",
       "      <td>7.53</td>\n",
       "      <td>184.0</td>\n",
       "    </tr>\n",
       "    <tr>\n",
       "      <th>4</th>\n",
       "      <td>4</td>\n",
       "      <td>Male</td>\n",
       "      <td>B</td>\n",
       "      <td>Old</td>\n",
       "      <td>6680.0</td>\n",
       "      <td>6.85</td>\n",
       "      <td>NaN</td>\n",
       "    </tr>\n",
       "    <tr>\n",
       "      <th>5</th>\n",
       "      <td>5</td>\n",
       "      <td>Male</td>\n",
       "      <td>A</td>\n",
       "      <td>Young</td>\n",
       "      <td>NaN</td>\n",
       "      <td>7.72</td>\n",
       "      <td>187.0</td>\n",
       "    </tr>\n",
       "  </tbody>\n",
       "</table>\n",
       "</div>"
      ],
      "text/plain": [
       "   SrNo  Gender BloodGroup    Age     WBC   RBC   Chol\n",
       "1     1  Female         AB  Young  7710.0  7.40  258.0\n",
       "2     2    Male         AB    Old  6560.0  4.70    NaN\n",
       "3     3    Male          A  Young  5690.0  7.53  184.0\n",
       "4     4    Male          B    Old  6680.0  6.85    NaN\n",
       "5     5    Male          A  Young     NaN  7.72  187.0"
      ]
     },
     "execution_count": 9,
     "metadata": {},
     "output_type": "execute_result"
    }
   ],
   "source": [
    "#read the dataset\n",
    "#use na_values to mark the missing values and index_col = 0 to remove the index in dataset\n",
    "#python gives one index by default\n",
    "\n",
    "ds = pd.read_csv(\"H:/Some CSV datasets/blood.csv\", na_values=\".\", index_col=0)\n",
    "ds.head()"
   ]
  },
  {
   "cell_type": "code",
   "execution_count": 10,
   "metadata": {},
   "outputs": [
    {
     "data": {
      "text/plain": [
       "(1000, 7)"
      ]
     },
     "execution_count": 10,
     "metadata": {},
     "output_type": "execute_result"
    }
   ],
   "source": [
    "#find the shape of the dataset\n",
    "ds.shape"
   ]
  },
  {
   "cell_type": "code",
   "execution_count": 11,
   "metadata": {},
   "outputs": [
    {
     "data": {
      "text/plain": [
       "SrNo            0\n",
       "Gender          0\n",
       "BloodGroup      0\n",
       "Age             0\n",
       "WBC            92\n",
       "RBC            84\n",
       "Chol          205\n",
       "dtype: int64"
      ]
     },
     "execution_count": 11,
     "metadata": {},
     "output_type": "execute_result"
    }
   ],
   "source": [
    "#find the sum of total number of missing values in each column\n",
    "pd.isnull(ds).sum()"
   ]
  },
  {
   "cell_type": "markdown",
   "metadata": {},
   "source": [
    "# Technique 1"
   ]
  },
  {
   "cell_type": "code",
   "execution_count": 12,
   "metadata": {},
   "outputs": [
    {
     "data": {
      "text/html": [
       "<div>\n",
       "<style>\n",
       "    .dataframe thead tr:only-child th {\n",
       "        text-align: right;\n",
       "    }\n",
       "\n",
       "    .dataframe thead th {\n",
       "        text-align: left;\n",
       "    }\n",
       "\n",
       "    .dataframe tbody tr th {\n",
       "        vertical-align: top;\n",
       "    }\n",
       "</style>\n",
       "<table border=\"1\" class=\"dataframe\">\n",
       "  <thead>\n",
       "    <tr style=\"text-align: right;\">\n",
       "      <th></th>\n",
       "      <th>WBC</th>\n",
       "      <th>RBC</th>\n",
       "      <th>Chol</th>\n",
       "    </tr>\n",
       "  </thead>\n",
       "  <tbody>\n",
       "    <tr>\n",
       "      <th>1</th>\n",
       "      <td>7710.0</td>\n",
       "      <td>7.40</td>\n",
       "      <td>258.0</td>\n",
       "    </tr>\n",
       "    <tr>\n",
       "      <th>2</th>\n",
       "      <td>6560.0</td>\n",
       "      <td>4.70</td>\n",
       "      <td>NaN</td>\n",
       "    </tr>\n",
       "    <tr>\n",
       "      <th>3</th>\n",
       "      <td>5690.0</td>\n",
       "      <td>7.53</td>\n",
       "      <td>184.0</td>\n",
       "    </tr>\n",
       "    <tr>\n",
       "      <th>4</th>\n",
       "      <td>6680.0</td>\n",
       "      <td>6.85</td>\n",
       "      <td>NaN</td>\n",
       "    </tr>\n",
       "    <tr>\n",
       "      <th>5</th>\n",
       "      <td>NaN</td>\n",
       "      <td>7.72</td>\n",
       "      <td>187.0</td>\n",
       "    </tr>\n",
       "  </tbody>\n",
       "</table>\n",
       "</div>"
      ],
      "text/plain": [
       "      WBC   RBC   Chol\n",
       "1  7710.0  7.40  258.0\n",
       "2  6560.0  4.70    NaN\n",
       "3  5690.0  7.53  184.0\n",
       "4  6680.0  6.85    NaN\n",
       "5     NaN  7.72  187.0"
      ]
     },
     "execution_count": 12,
     "metadata": {},
     "output_type": "execute_result"
    }
   ],
   "source": [
    "#print the column with only missing values\n",
    "data = ds.iloc[:,4:]\n",
    "data.head()"
   ]
  },
  {
   "cell_type": "code",
   "execution_count": 13,
   "metadata": {},
   "outputs": [
    {
     "data": {
      "text/plain": [
       "<matplotlib.axes._subplots.AxesSubplot at 0x7afec0f630>"
      ]
     },
     "execution_count": 13,
     "metadata": {},
     "output_type": "execute_result"
    },
    {
     "data": {
      "image/png": "[encoded data removed]",
      "text/plain": [
       "<matplotlib.figure.Figure at 0x7afeacde80>"
      ]
     },
     "metadata": {},
     "output_type": "display_data"
    }
   ],
   "source": [
    "#make a matrix of the missing value column\n",
    "mn.matrix(data, figsize=(20,4))"
   ]
  },
  {
   "cell_type": "code",
   "execution_count": 14,
   "metadata": {},
   "outputs": [
    {
     "data": {
      "text/plain": [
       "<matplotlib.axes._subplots.AxesSubplot at 0x7afebf6470>"
      ]
     },
     "execution_count": 14,
     "metadata": {},
     "output_type": "execute_result"
    },
    {
     "data": {
      "image/png": "[encoded data removed]",
      "text/plain": [
       "<matplotlib.figure.Figure at 0x7afeaadd30>"
      ]
     },
     "metadata": {},
     "output_type": "display_data"
    }
   ],
   "source": [
    "#making bar graph\n",
    "mn.bar(data)"
   ]
  },
  {
   "cell_type": "code",
   "execution_count": 15,
   "metadata": {},
   "outputs": [],
   "source": [
    "#MICE Formula\n",
    "YYY = fancyimpute.MICE(verbose=False)"
   ]
  },
  {
   "cell_type": "code",
   "execution_count": 17,
   "metadata": {},
   "outputs": [],
   "source": [
    "#create new data Data1 and complete the missing value\n",
    "Data1 = YYY.complete(data)"
   ]
  },
  {
   "cell_type": "markdown",
   "metadata": {},
   "source": [
    "#Find the shape of new created Data1\n",
    "Data1.shape"
   ]
  },
  {
   "cell_type": "code",
   "execution_count": 18,
   "metadata": {},
   "outputs": [
    {
     "data": {
      "text/html": [
       "<div>\n",
       "<style>\n",
       "    .dataframe thead tr:only-child th {\n",
       "        text-align: right;\n",
       "    }\n",
       "\n",
       "    .dataframe thead th {\n",
       "        text-align: left;\n",
       "    }\n",
       "\n",
       "    .dataframe tbody tr th {\n",
       "        vertical-align: top;\n",
       "    }\n",
       "</style>\n",
       "<table border=\"1\" class=\"dataframe\">\n",
       "  <thead>\n",
       "    <tr style=\"text-align: right;\">\n",
       "      <th></th>\n",
       "      <th>0</th>\n",
       "      <th>1</th>\n",
       "      <th>2</th>\n",
       "    </tr>\n",
       "  </thead>\n",
       "  <tbody>\n",
       "    <tr>\n",
       "      <th>0</th>\n",
       "      <td>7710.000000</td>\n",
       "      <td>7.40</td>\n",
       "      <td>258.000000</td>\n",
       "    </tr>\n",
       "    <tr>\n",
       "      <th>1</th>\n",
       "      <td>6560.000000</td>\n",
       "      <td>4.70</td>\n",
       "      <td>203.248039</td>\n",
       "    </tr>\n",
       "    <tr>\n",
       "      <th>2</th>\n",
       "      <td>5690.000000</td>\n",
       "      <td>7.53</td>\n",
       "      <td>184.000000</td>\n",
       "    </tr>\n",
       "    <tr>\n",
       "      <th>3</th>\n",
       "      <td>6680.000000</td>\n",
       "      <td>6.85</td>\n",
       "      <td>200.484295</td>\n",
       "    </tr>\n",
       "    <tr>\n",
       "      <th>4</th>\n",
       "      <td>7022.516382</td>\n",
       "      <td>7.72</td>\n",
       "      <td>187.000000</td>\n",
       "    </tr>\n",
       "  </tbody>\n",
       "</table>\n",
       "</div>"
      ],
      "text/plain": [
       "             0     1           2\n",
       "0  7710.000000  7.40  258.000000\n",
       "1  6560.000000  4.70  203.248039\n",
       "2  5690.000000  7.53  184.000000\n",
       "3  6680.000000  6.85  200.484295\n",
       "4  7022.516382  7.72  187.000000"
      ]
     },
     "execution_count": 18,
     "metadata": {},
     "output_type": "execute_result"
    }
   ],
   "source": [
    "#convert the shape into matrix form and print the head\n",
    "df = pd.DataFrame(Data1)\n",
    "df.head()"
   ]
  },
  {
   "cell_type": "code",
   "execution_count": 21,
   "metadata": {},
   "outputs": [
    {
     "name": "stdout",
     "output_type": "stream",
     "text": [
      "0    0\n",
      "1    0\n",
      "2    0\n",
      "dtype: int64\n"
     ]
    }
   ],
   "source": [
    "print(pd.isnull(df).sum())"
   ]
  },
  {
   "cell_type": "code",
   "execution_count": 35,
   "metadata": {},
   "outputs": [
    {
     "name": "stdout",
     "output_type": "stream",
     "text": [
      "               0         1           2\n",
      "0    7710.000000  7.400000  258.000000\n",
      "1    6560.000000  4.700000  198.670898\n",
      "2    5690.000000  7.530000  184.000000\n",
      "3    6680.000000  6.850000  208.456480\n",
      "4    7066.901578  7.720000  187.000000\n",
      "5    6140.000000  3.690000  142.000000\n",
      "6    6550.000000  4.780000  290.000000\n",
      "7    5200.000000  4.960000  151.000000\n",
      "8    7138.343351  5.660000  311.000000\n",
      "9    7710.000000  5.550000  203.507933\n",
      "10   6992.721439  5.620000  152.000000\n",
      "11   7410.000000  5.850000  241.000000\n",
      "12   5780.000000  4.370000  199.576357\n",
      "13   5590.000000  6.940000  152.000000\n",
      "14   6520.000000  6.030000  217.000000\n",
      "15   7210.000000  5.170000  193.000000\n",
      "16   7096.214838  5.630000  205.280002\n",
      "17   6410.000000  6.020000  224.000000\n",
      "18   6360.000000  3.740000  211.000000\n",
      "19   7580.000000  5.130000  179.000000\n",
      "20   7150.000000  6.350000  200.000000\n",
      "21   8710.000000  5.120000  211.000000\n",
      "22   7660.000000  4.910000  207.989510\n",
      "23   8280.000000  6.140000  201.594515\n",
      "24   7480.000000  4.700000  183.000000\n",
      "25   8320.000000  4.740000  186.000000\n",
      "26   8020.000000  5.030000  182.000000\n",
      "27   7040.000000  3.800000  201.655799\n",
      "28   7890.000000  7.540000  178.000000\n",
      "29   7490.000000  7.240000  227.000000\n",
      "..           ...       ...         ...\n",
      "970  5300.000000  4.110000  150.000000\n",
      "971  7130.000000  5.560000  262.000000\n",
      "972  8330.000000  3.290000  193.000000\n",
      "973  8180.000000  5.555721  236.000000\n",
      "974  5170.000000  6.030000  173.000000\n",
      "975  7410.000000  7.550000  202.101647\n",
      "976  6830.000000  5.730000  194.000000\n",
      "977  6800.000000  5.460000  206.000000\n",
      "978  6120.000000  4.700000  189.000000\n",
      "979  5570.000000  6.010000  200.031430\n",
      "980  4880.000000  5.710000  199.807668\n",
      "981  6100.000000  7.010000  247.000000\n",
      "982  6230.000000  6.040000  178.000000\n",
      "983  7550.000000  8.120000  242.000000\n",
      "984  8050.000000  4.240000  130.000000\n",
      "985  7115.301630  3.390000  225.000000\n",
      "986  6020.000000  5.569496   94.000000\n",
      "987  7170.000000  4.170000  206.000000\n",
      "988  7490.000000  7.090000  189.000000\n",
      "989  6750.000000  4.070000  208.056673\n",
      "990  6890.000000  5.730000  216.000000\n",
      "991  6670.000000  5.780000  182.000000\n",
      "992  6090.000000  6.310000  215.000000\n",
      "993  7290.000000  3.950000  119.000000\n",
      "994  7160.000000  6.940000  274.000000\n",
      "995  7930.000000  5.400000  194.459734\n",
      "996  5450.000000  4.500000  132.000000\n",
      "997  7440.000000  5.970000  210.536143\n",
      "998  7560.000000  5.790000  164.000000\n",
      "999  7200.000000  4.700000  228.000000\n",
      "\n",
      "[1000 rows x 3 columns]\n"
     ]
    }
   ],
   "source": [
    "#print the total data\n",
    "df = pd.DataFrame(Data1)\n",
    "print(df)"
   ]
  },
  {
   "cell_type": "markdown",
   "metadata": {
    "collapsed": true
   },
   "source": [
    "# End of Technique 1"
   ]
  },
  {
   "cell_type": "code",
   "execution_count": null,
   "metadata": {
    "collapsed": true
   },
   "outputs": [],
   "source": []
  },
  {
   "cell_type": "markdown",
   "metadata": {},
   "source": [
    "# Technique2"
   ]
  },
  {
   "cell_type": "code",
   "execution_count": 36,
   "metadata": {},
   "outputs": [
    {
     "data": {
      "text/html": [
       "<div>\n",
       "<style>\n",
       "    .dataframe thead tr:only-child th {\n",
       "        text-align: right;\n",
       "    }\n",
       "\n",
       "    .dataframe thead th {\n",
       "        text-align: left;\n",
       "    }\n",
       "\n",
       "    .dataframe tbody tr th {\n",
       "        vertical-align: top;\n",
       "    }\n",
       "</style>\n",
       "<table border=\"1\" class=\"dataframe\">\n",
       "  <thead>\n",
       "    <tr style=\"text-align: right;\">\n",
       "      <th></th>\n",
       "      <th>SrNo</th>\n",
       "      <th>WBC</th>\n",
       "      <th>RBC</th>\n",
       "      <th>Chol</th>\n",
       "      <th>Gender_Female</th>\n",
       "      <th>Gender_Male</th>\n",
       "      <th>BloodGroup_A</th>\n",
       "      <th>BloodGroup_AB</th>\n",
       "      <th>BloodGroup_B</th>\n",
       "      <th>BloodGroup_O</th>\n",
       "      <th>Age_Old</th>\n",
       "      <th>Age_Young</th>\n",
       "    </tr>\n",
       "  </thead>\n",
       "  <tbody>\n",
       "    <tr>\n",
       "      <th>1</th>\n",
       "      <td>1</td>\n",
       "      <td>7710.0</td>\n",
       "      <td>7.40</td>\n",
       "      <td>258.0</td>\n",
       "      <td>1</td>\n",
       "      <td>0</td>\n",
       "      <td>0</td>\n",
       "      <td>1</td>\n",
       "      <td>0</td>\n",
       "      <td>0</td>\n",
       "      <td>0</td>\n",
       "      <td>1</td>\n",
       "    </tr>\n",
       "    <tr>\n",
       "      <th>2</th>\n",
       "      <td>2</td>\n",
       "      <td>6560.0</td>\n",
       "      <td>4.70</td>\n",
       "      <td>NaN</td>\n",
       "      <td>0</td>\n",
       "      <td>1</td>\n",
       "      <td>0</td>\n",
       "      <td>1</td>\n",
       "      <td>0</td>\n",
       "      <td>0</td>\n",
       "      <td>1</td>\n",
       "      <td>0</td>\n",
       "    </tr>\n",
       "    <tr>\n",
       "      <th>3</th>\n",
       "      <td>3</td>\n",
       "      <td>5690.0</td>\n",
       "      <td>7.53</td>\n",
       "      <td>184.0</td>\n",
       "      <td>0</td>\n",
       "      <td>1</td>\n",
       "      <td>1</td>\n",
       "      <td>0</td>\n",
       "      <td>0</td>\n",
       "      <td>0</td>\n",
       "      <td>0</td>\n",
       "      <td>1</td>\n",
       "    </tr>\n",
       "    <tr>\n",
       "      <th>4</th>\n",
       "      <td>4</td>\n",
       "      <td>6680.0</td>\n",
       "      <td>6.85</td>\n",
       "      <td>NaN</td>\n",
       "      <td>0</td>\n",
       "      <td>1</td>\n",
       "      <td>0</td>\n",
       "      <td>0</td>\n",
       "      <td>1</td>\n",
       "      <td>0</td>\n",
       "      <td>1</td>\n",
       "      <td>0</td>\n",
       "    </tr>\n",
       "    <tr>\n",
       "      <th>5</th>\n",
       "      <td>5</td>\n",
       "      <td>NaN</td>\n",
       "      <td>7.72</td>\n",
       "      <td>187.0</td>\n",
       "      <td>0</td>\n",
       "      <td>1</td>\n",
       "      <td>1</td>\n",
       "      <td>0</td>\n",
       "      <td>0</td>\n",
       "      <td>0</td>\n",
       "      <td>0</td>\n",
       "      <td>1</td>\n",
       "    </tr>\n",
       "  </tbody>\n",
       "</table>\n",
       "</div>"
      ],
      "text/plain": [
       "   SrNo     WBC   RBC   Chol  Gender_Female  Gender_Male  BloodGroup_A  \\\n",
       "1     1  7710.0  7.40  258.0              1            0             0   \n",
       "2     2  6560.0  4.70    NaN              0            1             0   \n",
       "3     3  5690.0  7.53  184.0              0            1             1   \n",
       "4     4  6680.0  6.85    NaN              0            1             0   \n",
       "5     5     NaN  7.72  187.0              0            1             1   \n",
       "\n",
       "   BloodGroup_AB  BloodGroup_B  BloodGroup_O  Age_Old  Age_Young  \n",
       "1              1             0             0        0          1  \n",
       "2              1             0             0        1          0  \n",
       "3              0             0             0        0          1  \n",
       "4              0             1             0        1          0  \n",
       "5              0             0             0        0          1  "
      ]
     },
     "execution_count": 36,
     "metadata": {},
     "output_type": "execute_result"
    }
   ],
   "source": [
    "nw = pd.get_dummies(ds)\n",
    "nw.head()"
   ]
  },
  {
   "cell_type": "code",
   "execution_count": 37,
   "metadata": {},
   "outputs": [
    {
     "data": {
      "text/plain": [
       "<matplotlib.axes._subplots.AxesSubplot at 0x94d4a135f8>"
      ]
     },
     "execution_count": 37,
     "metadata": {},
     "output_type": "execute_result"
    },
    {
     "data": {
      "image/png": "[encoded data removed]",
      "text/plain": [
       "<matplotlib.figure.Figure at 0x94d536e518>"
      ]
     },
     "metadata": {},
     "output_type": "display_data"
    }
   ],
   "source": [
    "mn.matrix(nw,figsize =(10,4))"
   ]
  },
  {
   "cell_type": "code",
   "execution_count": 38,
   "metadata": {},
   "outputs": [
    {
     "data": {
      "text/plain": [
       "<matplotlib.axes._subplots.AxesSubplot at 0x94d53be2b0>"
      ]
     },
     "execution_count": 38,
     "metadata": {},
     "output_type": "execute_result"
    },
    {
     "data": {
      "image/png": "[encoded data removed]",
      "text/plain": [
       "<matplotlib.figure.Figure at 0x94d4a21358>"
      ]
     },
     "metadata": {},
     "output_type": "display_data"
    }
   ],
   "source": [
    "mn.bar(nw)"
   ]
  },
  {
   "cell_type": "code",
   "execution_count": 39,
   "metadata": {},
   "outputs": [
    {
     "data": {
      "text/plain": [
       "<matplotlib.axes._subplots.AxesSubplot at 0x94d5510cf8>"
      ]
     },
     "execution_count": 39,
     "metadata": {},
     "output_type": "execute_result"
    },
    {
     "data": {
      "image/png": "[encoded data removed]",
      "text/plain": [
       "<matplotlib.figure.Figure at 0x94d546a240>"
      ]
     },
     "metadata": {},
     "output_type": "display_data"
    }
   ],
   "source": [
    "mn.heatmap(nw, figsize=(5,6), fontsize = 12)"
   ]
  },
  {
   "cell_type": "code",
   "execution_count": 40,
   "metadata": {
    "collapsed": true
   },
   "outputs": [],
   "source": [
    "YYY = fancyimpute.MICE(verbose=False)"
   ]
  },
  {
   "cell_type": "code",
   "execution_count": 41,
   "metadata": {},
   "outputs": [
    {
     "name": "stdout",
     "output_type": "stream",
     "text": [
      "[[  1.00000000e+00   7.71000000e+03   7.40000000e+00 ...,   0.00000000e+00\n",
      "    0.00000000e+00   1.00000000e+00]\n",
      " [  2.00000000e+00   6.56000000e+03   4.70000000e+00 ...,   0.00000000e+00\n",
      "    1.00000000e+00   0.00000000e+00]\n",
      " [  3.00000000e+00   5.69000000e+03   7.53000000e+00 ...,   0.00000000e+00\n",
      "    0.00000000e+00   1.00000000e+00]\n",
      " ..., \n",
      " [  9.98000000e+02   7.44000000e+03   5.97000000e+00 ...,   1.00000000e+00\n",
      "    1.00000000e+00   0.00000000e+00]\n",
      " [  9.99000000e+02   7.56000000e+03   5.79000000e+00 ...,   1.00000000e+00\n",
      "    1.00000000e+00   0.00000000e+00]\n",
      " [  1.00000000e+03   7.20000000e+03   4.70000000e+00 ...,   0.00000000e+00\n",
      "    0.00000000e+00   1.00000000e+00]]\n"
     ]
    }
   ],
   "source": [
    "Data1 = YYY.complete(nw)\n",
    "print(Data1)"
   ]
  },
  {
   "cell_type": "code",
   "execution_count": 42,
   "metadata": {},
   "outputs": [
    {
     "data": {
      "text/html": [
       "<div>\n",
       "<style>\n",
       "    .dataframe thead tr:only-child th {\n",
       "        text-align: right;\n",
       "    }\n",
       "\n",
       "    .dataframe thead th {\n",
       "        text-align: left;\n",
       "    }\n",
       "\n",
       "    .dataframe tbody tr th {\n",
       "        vertical-align: top;\n",
       "    }\n",
       "</style>\n",
       "<table border=\"1\" class=\"dataframe\">\n",
       "  <thead>\n",
       "    <tr style=\"text-align: right;\">\n",
       "      <th></th>\n",
       "      <th>SrNo</th>\n",
       "      <th>WBC</th>\n",
       "      <th>RBC</th>\n",
       "      <th>Chol</th>\n",
       "      <th>Gender_Female</th>\n",
       "      <th>Gender_Male</th>\n",
       "      <th>BloodGroup_A</th>\n",
       "      <th>BloodGroup_AB</th>\n",
       "      <th>BloodGroup_B</th>\n",
       "      <th>BloodGroup_O</th>\n",
       "      <th>Age_Old</th>\n",
       "      <th>Age_Young</th>\n",
       "    </tr>\n",
       "  </thead>\n",
       "  <tbody>\n",
       "    <tr>\n",
       "      <th>0</th>\n",
       "      <td>1.0</td>\n",
       "      <td>7710.000000</td>\n",
       "      <td>7.40</td>\n",
       "      <td>258.000000</td>\n",
       "      <td>1.0</td>\n",
       "      <td>0.0</td>\n",
       "      <td>0.0</td>\n",
       "      <td>1.0</td>\n",
       "      <td>0.0</td>\n",
       "      <td>0.0</td>\n",
       "      <td>0.0</td>\n",
       "      <td>1.0</td>\n",
       "    </tr>\n",
       "    <tr>\n",
       "      <th>1</th>\n",
       "      <td>2.0</td>\n",
       "      <td>6560.000000</td>\n",
       "      <td>4.70</td>\n",
       "      <td>209.678398</td>\n",
       "      <td>0.0</td>\n",
       "      <td>1.0</td>\n",
       "      <td>0.0</td>\n",
       "      <td>1.0</td>\n",
       "      <td>0.0</td>\n",
       "      <td>0.0</td>\n",
       "      <td>1.0</td>\n",
       "      <td>0.0</td>\n",
       "    </tr>\n",
       "    <tr>\n",
       "      <th>2</th>\n",
       "      <td>3.0</td>\n",
       "      <td>5690.000000</td>\n",
       "      <td>7.53</td>\n",
       "      <td>184.000000</td>\n",
       "      <td>0.0</td>\n",
       "      <td>1.0</td>\n",
       "      <td>1.0</td>\n",
       "      <td>0.0</td>\n",
       "      <td>0.0</td>\n",
       "      <td>0.0</td>\n",
       "      <td>0.0</td>\n",
       "      <td>1.0</td>\n",
       "    </tr>\n",
       "    <tr>\n",
       "      <th>3</th>\n",
       "      <td>4.0</td>\n",
       "      <td>6680.000000</td>\n",
       "      <td>6.85</td>\n",
       "      <td>199.797467</td>\n",
       "      <td>0.0</td>\n",
       "      <td>1.0</td>\n",
       "      <td>0.0</td>\n",
       "      <td>0.0</td>\n",
       "      <td>1.0</td>\n",
       "      <td>0.0</td>\n",
       "      <td>1.0</td>\n",
       "      <td>0.0</td>\n",
       "    </tr>\n",
       "    <tr>\n",
       "      <th>4</th>\n",
       "      <td>5.0</td>\n",
       "      <td>7136.205258</td>\n",
       "      <td>7.72</td>\n",
       "      <td>187.000000</td>\n",
       "      <td>0.0</td>\n",
       "      <td>1.0</td>\n",
       "      <td>1.0</td>\n",
       "      <td>0.0</td>\n",
       "      <td>0.0</td>\n",
       "      <td>0.0</td>\n",
       "      <td>0.0</td>\n",
       "      <td>1.0</td>\n",
       "    </tr>\n",
       "  </tbody>\n",
       "</table>\n",
       "</div>"
      ],
      "text/plain": [
       "   SrNo          WBC   RBC        Chol  Gender_Female  Gender_Male  \\\n",
       "0   1.0  7710.000000  7.40  258.000000            1.0          0.0   \n",
       "1   2.0  6560.000000  4.70  209.678398            0.0          1.0   \n",
       "2   3.0  5690.000000  7.53  184.000000            0.0          1.0   \n",
       "3   4.0  6680.000000  6.85  199.797467            0.0          1.0   \n",
       "4   5.0  7136.205258  7.72  187.000000            0.0          1.0   \n",
       "\n",
       "   BloodGroup_A  BloodGroup_AB  BloodGroup_B  BloodGroup_O  Age_Old  Age_Young  \n",
       "0           0.0            1.0           0.0           0.0      0.0        1.0  \n",
       "1           0.0            1.0           0.0           0.0      1.0        0.0  \n",
       "2           1.0            0.0           0.0           0.0      0.0        1.0  \n",
       "3           0.0            0.0           1.0           0.0      1.0        0.0  \n",
       "4           1.0            0.0           0.0           0.0      0.0        1.0  "
      ]
     },
     "execution_count": 42,
     "metadata": {},
     "output_type": "execute_result"
    }
   ],
   "source": [
    "nd = pd.DataFrame(Data1, columns=nw.columns)\n",
    "nd.head()"
   ]
  },
  {
   "cell_type": "markdown",
   "metadata": {},
   "source": [
    "# End of Technique 2"
   ]
  },
  {
   "cell_type": "code",
   "execution_count": null,
   "metadata": {
    "collapsed": true
   },
   "outputs": [],
   "source": []
  }
 ],
 "metadata": {
  "kernelspec": {
   "display_name": "Python 3",
   "language": "python",
   "name": "python3"
  },
  "language_info": {
   "codemirror_mode": {
    "name": "ipython",
    "version": 3
   },
   "file_extension": ".py",
   "mimetype": "text/x-python",
   "name": "python",
   "nbconvert_exporter": "python",
   "pygments_lexer": "ipython3",
   "version": "3.6.3"
  }
 },
 "nbformat": 4,
 "nbformat_minor": 2
}
