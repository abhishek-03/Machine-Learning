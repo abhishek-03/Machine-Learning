{
 "cells": [
  {
   "cell_type": "code",
   "execution_count": 47,
   "metadata": {},
   "outputs": [],
   "source": [
    "import numpy as np\n",
    "import pandas as pd\n",
    "import seaborn as sms\n",
    "import scipy.stats as kde"
   ]
  },
  {
   "cell_type": "code",
   "execution_count": 48,
   "metadata": {},
   "outputs": [],
   "source": [
    "spiral_data = pd.read_table(\"H:/Some CSV datasets/spiral.txt\", header = None, names = ['X','Y','Clusters'])"
   ]
  },
  {
   "cell_type": "code",
   "execution_count": 49,
   "metadata": {},
   "outputs": [
    {
     "data": {
      "text/html": [
       "<div>\n",
       "<style>\n",
       "    .dataframe thead tr:only-child th {\n",
       "        text-align: right;\n",
       "    }\n",
       "\n",
       "    .dataframe thead th {\n",
       "        text-align: left;\n",
       "    }\n",
       "\n",
       "    .dataframe tbody tr th {\n",
       "        vertical-align: top;\n",
       "    }\n",
       "</style>\n",
       "<table border=\"1\" class=\"dataframe\">\n",
       "  <thead>\n",
       "    <tr style=\"text-align: right;\">\n",
       "      <th></th>\n",
       "      <th>X</th>\n",
       "      <th>Y</th>\n",
       "      <th>Clusters</th>\n",
       "    </tr>\n",
       "  </thead>\n",
       "  <tbody>\n",
       "    <tr>\n",
       "      <th>0</th>\n",
       "      <td>31.95</td>\n",
       "      <td>7.95</td>\n",
       "      <td>3</td>\n",
       "    </tr>\n",
       "    <tr>\n",
       "      <th>1</th>\n",
       "      <td>31.15</td>\n",
       "      <td>7.30</td>\n",
       "      <td>3</td>\n",
       "    </tr>\n",
       "    <tr>\n",
       "      <th>2</th>\n",
       "      <td>30.45</td>\n",
       "      <td>6.65</td>\n",
       "      <td>3</td>\n",
       "    </tr>\n",
       "    <tr>\n",
       "      <th>3</th>\n",
       "      <td>29.70</td>\n",
       "      <td>6.00</td>\n",
       "      <td>3</td>\n",
       "    </tr>\n",
       "    <tr>\n",
       "      <th>4</th>\n",
       "      <td>28.90</td>\n",
       "      <td>5.55</td>\n",
       "      <td>3</td>\n",
       "    </tr>\n",
       "  </tbody>\n",
       "</table>\n",
       "</div>"
      ],
      "text/plain": [
       "       X     Y  Clusters\n",
       "0  31.95  7.95         3\n",
       "1  31.15  7.30         3\n",
       "2  30.45  6.65         3\n",
       "3  29.70  6.00         3\n",
       "4  28.90  5.55         3"
      ]
     },
     "execution_count": 49,
     "metadata": {},
     "output_type": "execute_result"
    }
   ],
   "source": [
    "spiral_data.head()"
   ]
  },
  {
   "cell_type": "code",
   "execution_count": 50,
   "metadata": {},
   "outputs": [],
   "source": [
    "spiral_data.columns = ['X','Y','Clusters']"
   ]
  },
  {
   "cell_type": "code",
   "execution_count": 53,
   "metadata": {},
   "outputs": [],
   "source": [
    "from sklearn.metrics import pairwise_distances"
   ]
  },
  {
   "cell_type": "code",
   "execution_count": 68,
   "metadata": {
    "scrolled": true
   },
   "outputs": [],
   "source": [
    "D = pairwise_distances(X = spiral_data[['X','Y']], n_jobs = 1)"
   ]
  },
  {
   "cell_type": "code",
   "execution_count": 74,
   "metadata": {},
   "outputs": [
    {
     "data": {
      "text/plain": [
       "(312, 312)"
      ]
     },
     "execution_count": 74,
     "metadata": {},
     "output_type": "execute_result"
    }
   ],
   "source": [
    "D.shape"
   ]
  },
  {
   "cell_type": "code",
   "execution_count": 75,
   "metadata": {},
   "outputs": [
    {
     "data": {
      "image/png": "[encoded data removed]",
      "text/plain": [
       "<matplotlib.figure.Figure at 0x284ba39080>"
      ]
     },
     "metadata": {},
     "output_type": "display_data"
    }
   ],
   "source": [
    "import matplotlib.pyplot as plt\n",
    "sms.kdeplot(data = D.flatten(),shade=True)\n",
    "plt.show()\n",
    "%matplotlib inline"
   ]
  },
  {
   "cell_type": "code",
   "execution_count": 67,
   "metadata": {},
   "outputs": [],
   "source": [
    "Densities = kde.gaussian_kde(dataset = D.flatten())"
   ]
  },
  {
   "cell_type": "code",
   "execution_count": 43,
   "metadata": {},
   "outputs": [
    {
     "data": {
      "text/plain": [
       "array([ 0.01217801,  0.01221163,  0.01224273,  0.01227139,  0.01229767,\n",
       "        0.01232165,  0.01234342,  0.01236306,  0.01238064,  0.01239625,\n",
       "        0.01240997,  0.01242187,  0.01243203,  0.01244054,  0.01244748,\n",
       "        0.01245292,  0.01245694,  0.01245961,  0.01246101,  0.01246121,\n",
       "        0.01246029,  0.01245831,  0.01245535,  0.01245146,  0.01244673,\n",
       "        0.0124412 ,  0.01243495,  0.01242804,  0.01242051,  0.01241245,\n",
       "        0.01240389,  0.01239491,  0.01238554,  0.01237586,  0.0123659 ,\n",
       "        0.01235573,  0.01234539,  0.01233495,  0.01232444,  0.01231392,\n",
       "        0.01230345,  0.01229308,  0.01228286,  0.01227284,  0.01226308,\n",
       "        0.01225363,  0.01224457,  0.01223594,  0.0122278 ,  0.01222024,\n",
       "        0.0122133 ,  0.01220707,  0.01220161,  0.01219701,  0.01219334,\n",
       "        0.0121907 ,  0.01218917,  0.01218885,  0.01218984,  0.01219225,\n",
       "        0.01219618,  0.01220175,  0.0122091 ,  0.01221834,  0.01222963,\n",
       "        0.01224309,  0.01225888,  0.01227717,  0.01229812,  0.0123219 ,\n",
       "        0.01234869,  0.01237869,  0.0124121 ,  0.01244912,  0.01248997,\n",
       "        0.01253486,  0.01258404,  0.01263774,  0.01269621,  0.01275969,\n",
       "        0.01282847,  0.01290279,  0.01298293,  0.01306918,  0.01316182,\n",
       "        0.01326114,  0.01336743,  0.013481  ,  0.01360213,  0.01373113,\n",
       "        0.0138683 ,  0.01401394,  0.01416835,  0.01433183,  0.01450466,\n",
       "        0.01468713,  0.01487952,  0.0150821 ,  0.01529513,  0.01551886])"
      ]
     },
     "execution_count": 43,
     "metadata": {},
     "output_type": "execute_result"
    }
   ],
   "source": [
    "Densities(np.linspace(1,3,100))"
   ]
  },
  {
   "cell_type": "code",
   "execution_count": null,
   "metadata": {},
   "outputs": [],
   "source": []
  }
 ],
 "metadata": {
  "kernelspec": {
   "display_name": "Python 3",
   "language": "python",
   "name": "python3"
  },
  "language_info": {
   "codemirror_mode": {
    "name": "ipython",
    "version": 3
   },
   "file_extension": ".py",
   "mimetype": "text/x-python",
   "name": "python",
   "nbconvert_exporter": "python",
   "pygments_lexer": "ipython3",
   "version": "3.6.3"
  }
 },
 "nbformat": 4,
 "nbformat_minor": 2
}
