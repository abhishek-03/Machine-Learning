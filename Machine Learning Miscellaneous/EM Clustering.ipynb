{
 "cells": [
  {
   "cell_type": "code",
   "execution_count": 3,
   "metadata": {},
   "outputs": [],
   "source": [
    "from sklearn.mixture import GaussianMixture\n",
    "from sklearn.datasets import load_iris"
   ]
  },
  {
   "cell_type": "markdown",
   "metadata": {},
   "source": [
    "D = X1,X2,X3......Xn\n",
    "d- dimensions\n",
    "\n",
    "datapoints are getting generated from Gaussian Distribution mixture\n",
    "j nos of distribution\n",
    "pif(x|muj, Ej)\n",
    "EM clustering provides extra information which helps in understanding the uncertainty.\n",
    "KMeans clustering is an special class of EM clustering."
   ]
  },
  {
   "cell_type": "code",
   "execution_count": 4,
   "metadata": {},
   "outputs": [],
   "source": [
    "D = load_iris().data"
   ]
  },
  {
   "cell_type": "code",
   "execution_count": 5,
   "metadata": {},
   "outputs": [],
   "source": [
    "GM = GaussianMixture(n_components=2 ,covariance_type ='diag')"
   ]
  },
  {
   "cell_type": "code",
   "execution_count": 6,
   "metadata": {},
   "outputs": [
    {
     "data": {
      "text/plain": [
       "GaussianMixture(covariance_type='diag', init_params='kmeans', max_iter=100,\n",
       "        means_init=None, n_components=2, n_init=1, precisions_init=None,\n",
       "        random_state=None, reg_covar=1e-06, tol=0.001, verbose=0,\n",
       "        verbose_interval=10, warm_start=False, weights_init=None)"
      ]
     },
     "execution_count": 6,
     "metadata": {},
     "output_type": "execute_result"
    }
   ],
   "source": [
    "GM.fit(X= D)"
   ]
  },
  {
   "cell_type": "code",
   "execution_count": 7,
   "metadata": {},
   "outputs": [],
   "source": [
    "Cluster = GM.predict(X = D)"
   ]
  },
  {
   "cell_type": "code",
   "execution_count": 8,
   "metadata": {},
   "outputs": [
    {
     "data": {
      "text/plain": [
       "array([[ 0.43495713,  0.10961703,  0.67476618,  0.17862513],\n",
       "       [ 0.12176503,  0.14227703,  0.029505  ,  0.01126498]])"
      ]
     },
     "execution_count": 8,
     "metadata": {},
     "output_type": "execute_result"
    }
   ],
   "source": [
    "GM.covariances_"
   ]
  },
  {
   "cell_type": "code",
   "execution_count": 9,
   "metadata": {},
   "outputs": [
    {
     "data": {
      "text/plain": [
       "array([[ 6.26199985,  2.87200007,  4.90599961,  1.67599987],\n",
       "       [ 5.00599999,  3.41799999,  1.46399996,  0.24399993]])"
      ]
     },
     "execution_count": 9,
     "metadata": {},
     "output_type": "execute_result"
    }
   ],
   "source": [
    "GM.means_"
   ]
  },
  {
   "cell_type": "code",
   "execution_count": 10,
   "metadata": {},
   "outputs": [
    {
     "data": {
      "text/plain": [
       "['sepal length (cm)',\n",
       " 'sepal width (cm)',\n",
       " 'petal length (cm)',\n",
       " 'petal width (cm)']"
      ]
     },
     "execution_count": 10,
     "metadata": {},
     "output_type": "execute_result"
    }
   ],
   "source": [
    "load_iris().feature_names"
   ]
  },
  {
   "cell_type": "markdown",
   "metadata": {},
   "source": [
    "AIC = 2k-2ln(L^)\n",
    "\n",
    "BIC = ln(n)k - 2ln(L^)"
   ]
  },
  {
   "cell_type": "code",
   "execution_count": 11,
   "metadata": {},
   "outputs": [
    {
     "data": {
      "text/plain": [
       "859.6950871369022"
      ]
     },
     "execution_count": 11,
     "metadata": {},
     "output_type": "execute_result"
    }
   ],
   "source": [
    "GM.bic(X=D)"
   ]
  },
  {
   "cell_type": "code",
   "execution_count": 12,
   "metadata": {},
   "outputs": [],
   "source": [
    "BIC_val=[]\n",
    "for k in range(1,20):\n",
    "    GM = GaussianMixture(n_components=k)\n",
    "    GM.fit(X=D)\n",
    "    BIC_val.append(GM.bic(X=D))"
   ]
  },
  {
   "cell_type": "code",
   "execution_count": 13,
   "metadata": {},
   "outputs": [
    {
     "data": {
      "text/plain": [
       "[829.23492514813449,\n",
       " 575.64056273964297,\n",
       " 582.48238736726273,\n",
       " 631.46081141111756,\n",
       " 675.30098941623544,\n",
       " 733.46525922759804,\n",
       " 779.97382127211438,\n",
       " 778.27672985046161,\n",
       " 821.37800649453766,\n",
       " 883.60577377945401,\n",
       " 863.03997318410529,\n",
       " 989.77980925976601,\n",
       " 966.24217983697372,\n",
       " 976.87494227091906,\n",
       " 1020.8169827796962,\n",
       " 982.8611676545512,\n",
       " 1072.3594856144259,\n",
       " 1072.1996381300928,\n",
       " 1145.6334925172487]"
      ]
     },
     "execution_count": 13,
     "metadata": {},
     "output_type": "execute_result"
    }
   ],
   "source": [
    "BIC_val"
   ]
  },
  {
   "cell_type": "code",
   "execution_count": 14,
   "metadata": {},
   "outputs": [],
   "source": [
    "cov_mat_type = ['full','tied','diag','spherical']\n",
    "n_comp = range(1,20)\n",
    "BIC_vals = {'full':[],'tied':[],'diag':[],'spherical':[]}\n",
    "for cov in cov_mat_type:\n",
    "    for k in n_comp:\n",
    "        GM = GaussianMixture(n_components=k,covariance_type=cov)\n",
    "        GM.fit(X=D)\n",
    "        BIC_vals[cov].append(GM.bic(X=D))"
   ]
  },
  {
   "cell_type": "code",
   "execution_count": 15,
   "metadata": {},
   "outputs": [],
   "source": [
    "probs = GM.predict_proba(X=D)"
   ]
  },
  {
   "cell_type": "code",
   "execution_count": 16,
   "metadata": {},
   "outputs": [
    {
     "data": {
      "text/plain": [
       "array([  4.51094004e-04,   1.17295392e-02,   1.63865474e-01,\n",
       "         1.53954891e-01,   7.27574424e-04,   8.36251138e-02,\n",
       "         1.47016586e-01,   1.74659490e-02,   6.77654908e-04,\n",
       "         6.97245986e-03,   2.26207940e-01,   2.19743993e-01,\n",
       "         2.08405766e-02,   4.31521490e-08,   3.01677797e-06,\n",
       "         5.77876724e-09,   3.80974164e-02,   3.79928240e-04,\n",
       "         4.13679975e-03,   2.56928539e-02,   1.59897078e-03,\n",
       "         4.38613827e-03,   4.95670247e-03,   6.02113388e-04,\n",
       "         2.75701104e-02,   2.52000223e-02,   1.53602004e-03,\n",
       "         5.45834765e-04,   3.86937729e-04,   4.02131574e-02,\n",
       "         9.49882571e-03,   2.06406897e-03,   1.79954068e-02,\n",
       "         1.84652457e-05,   6.97245986e-03,   5.22887361e-01,\n",
       "         8.05973858e-02,   6.97245986e-03,   6.71107360e-04,\n",
       "         1.55491474e-03,   2.47260615e-03,   9.85878046e-14,\n",
       "         9.20118162e-04,   5.00422653e-04,   2.59784164e-02,\n",
       "         3.47075932e-02,   2.26912936e-02,   2.88953814e-01,\n",
       "         6.07716783e-02,   3.14130435e-01,   1.09176025e-04,\n",
       "         1.11756788e-01,   2.03239791e-03,   7.40608769e-05,\n",
       "         3.60023582e-01,   2.57401943e-02,   2.18684616e-02,\n",
       "         1.55204923e-06,   4.60030727e-02,   3.60768770e-03,\n",
       "         7.37955854e-05,   3.59023042e-01,   7.19062969e-07,\n",
       "         7.64701725e-02,   9.34827376e-05,   2.40136852e-02,\n",
       "         3.75947257e-02,   3.46171406e-02,   5.14082286e-04,\n",
       "         1.60995818e-04,   1.93395944e-01,   1.31311526e-01,\n",
       "         1.37250642e-02,   8.99773523e-02,   4.27934655e-02,\n",
       "         1.19460006e-01,   3.48643822e-03,   5.18091106e-01,\n",
       "         3.40610516e-02,   5.80122723e-07,   3.03925349e-06,\n",
       "         3.80033121e-05,   6.78627141e-03,   5.85333681e-03,\n",
       "         4.36781910e-03,   6.02895427e-04,   6.96992074e-03,\n",
       "         1.83535019e-04,   5.32130412e-02,   5.31387759e-03,\n",
       "         2.01343843e-01,   1.16072497e-02,   1.15542246e-02,\n",
       "         3.55665397e-06,   1.87636595e-01,   2.88547923e-02,\n",
       "         2.88519733e-02,   5.32270311e-03,   4.49179269e-06,\n",
       "         2.51683682e-01,   1.70220015e-02,   7.72609054e-02,\n",
       "         4.76578355e-02,   4.25659977e-02,   4.20745263e-01,\n",
       "         3.24065608e-03,   0.00000000e+00,   8.85404684e-04,\n",
       "         2.52865213e-03,   2.39281803e-04,   1.22861352e-02,\n",
       "         3.22878977e-01,   4.22336255e-02,   1.98398059e-02,\n",
       "         1.53480840e-02,   4.03816283e-02,   9.35281578e-03,\n",
       "         8.48845506e-05,   1.14883725e-06,   1.27042125e-04,\n",
       "         1.36888442e-01,   7.70778275e-03,   7.97113864e-06,\n",
       "         3.03113727e-02,   2.87051077e-01,   2.12474074e-03,\n",
       "         1.68799318e-01,   2.41976965e-01,   9.53150882e-03,\n",
       "         1.52773718e-03,   1.38110761e-03,   9.69886521e-05,\n",
       "         2.02851566e-02,   2.49554203e-02,   1.53824550e-02,\n",
       "         2.37935221e-03,   2.01258556e-01,   1.15079043e-02,\n",
       "         4.93316268e-01,   2.15763987e-02,   2.11792885e-01,\n",
       "         1.11461050e-03,   7.72609054e-02,   3.37482024e-02,\n",
       "         2.19053779e-02,   4.24458944e-03,   1.61247482e-02,\n",
       "         2.19606780e-02,   8.62568673e-02,   1.19624521e-01])"
      ]
     },
     "execution_count": 16,
     "metadata": {},
     "output_type": "execute_result"
    }
   ],
   "source": [
    "1 - probs.max(axis =1)"
   ]
  },
  {
   "cell_type": "code",
   "execution_count": 17,
   "metadata": {},
   "outputs": [
    {
     "data": {
      "text/plain": [
       "{'diag': [1520.7661648139654,\n",
       "  859.6950871369022,\n",
       "  746.77679976599848,\n",
       "  707.2662514430798,\n",
       "  715.81546377326981,\n",
       "  707.73418219181258,\n",
       "  733.30773738626772,\n",
       "  713.51590341649421,\n",
       "  752.51784506046602,\n",
       "  759.70334706924518,\n",
       "  790.61981183106582,\n",
       "  819.34104133210735,\n",
       "  789.08607635264866,\n",
       "  861.12972771849729,\n",
       "  855.93734807420026,\n",
       "  925.09287305482508,\n",
       "  886.13012861980008,\n",
       "  773.07880391032381,\n",
       "  972.99638776457095],\n",
       " 'full': [829.23492514813449,\n",
       "  575.64056273964297,\n",
       "  582.48238736726273,\n",
       "  627.06420354617478,\n",
       "  660.27104202869361,\n",
       "  733.00443802937878,\n",
       "  774.80551097492082,\n",
       "  771.3053903041689,\n",
       "  828.80084485994178,\n",
       "  911.03092817423169,\n",
       "  885.28473923672755,\n",
       "  1031.8685517586191,\n",
       "  942.16495695760386,\n",
       "  1033.7173833034437,\n",
       "  1055.9756935178073,\n",
       "  1038.9160991248393,\n",
       "  1093.8183404340098,\n",
       "  1059.505239889389,\n",
       "  1101.4224002351179],\n",
       " 'spherical': [1803.6042732695944,\n",
       "  1013.4118317362249,\n",
       "  855.00022918940658,\n",
       "  786.10880816399265,\n",
       "  748.18598853112564,\n",
       "  703.36977094343729,\n",
       "  773.69799040688702,\n",
       "  708.19025310784446,\n",
       "  722.8959748494251,\n",
       "  706.53462220787583,\n",
       "  721.28120789364561,\n",
       "  736.80703396154286,\n",
       "  746.65957084923753,\n",
       "  772.76385451145802,\n",
       "  774.28476695778068,\n",
       "  773.23548328331754,\n",
       "  819.81081650018803,\n",
       "  835.12417929978403,\n",
       "  785.21118751749054],\n",
       " 'tied': [829.23492514813449,\n",
       "  688.31064895882605,\n",
       "  633.76566547877599,\n",
       "  617.93771457720322,\n",
       "  606.22812176794378,\n",
       "  616.26651734871371,\n",
       "  617.32144943509695,\n",
       "  624.63967793413667,\n",
       "  647.24228226707555,\n",
       "  648.36098581162855,\n",
       "  675.48547144707595,\n",
       "  686.87242120582994,\n",
       "  694.59431797587069,\n",
       "  693.75459962416801,\n",
       "  720.69914098543654,\n",
       "  748.37820580675657,\n",
       "  771.22484366769356,\n",
       "  767.2578833231546,\n",
       "  772.02802062418436]}"
      ]
     },
     "execution_count": 17,
     "metadata": {},
     "output_type": "execute_result"
    }
   ],
   "source": [
    "BIC_vals"
   ]
  },
  {
   "cell_type": "code",
   "execution_count": 18,
   "metadata": {},
   "outputs": [
    {
     "name": "stdout",
     "output_type": "stream",
     "text": [
      "Solving environment: ...working... done\n",
      "\n",
      "# All requested packages already installed.\n",
      "\n"
     ]
    }
   ],
   "source": [
    "!conda install -y rpy2 "
   ]
  },
  {
   "cell_type": "code",
   "execution_count": 20,
   "metadata": {},
   "outputs": [
    {
     "ename": "ImportError",
     "evalue": "DLL load failed: The specified procedure could not be found.",
     "output_type": "error",
     "traceback": [
      "\u001b[1;31m---------------------------------------------------------------------------\u001b[0m",
      "\u001b[1;31mImportError\u001b[0m                               Traceback (most recent call last)",
      "\u001b[1;32m<ipython-input-20-c263ba6ad509>\u001b[0m in \u001b[0;36m<module>\u001b[1;34m()\u001b[0m\n\u001b[0;32m      1\u001b[0m \u001b[1;32mimport\u001b[0m \u001b[0mrpy2\u001b[0m\u001b[1;33m\u001b[0m\u001b[0m\n\u001b[1;32m----> 2\u001b[1;33m \u001b[0mget_ipython\u001b[0m\u001b[1;33m(\u001b[0m\u001b[1;33m)\u001b[0m\u001b[1;33m.\u001b[0m\u001b[0mmagic\u001b[0m\u001b[1;33m(\u001b[0m\u001b[1;34m'load_ext rpy2.ipython'\u001b[0m\u001b[1;33m)\u001b[0m\u001b[1;33m\u001b[0m\u001b[0m\n\u001b[0m",
      "\u001b[1;32m~\\Anaconda3\\lib\\site-packages\\IPython\\core\\interactiveshell.py\u001b[0m in \u001b[0;36mmagic\u001b[1;34m(self, arg_s)\u001b[0m\n\u001b[0;32m   2144\u001b[0m         \u001b[0mmagic_name\u001b[0m\u001b[1;33m,\u001b[0m \u001b[0m_\u001b[0m\u001b[1;33m,\u001b[0m \u001b[0mmagic_arg_s\u001b[0m \u001b[1;33m=\u001b[0m \u001b[0marg_s\u001b[0m\u001b[1;33m.\u001b[0m\u001b[0mpartition\u001b[0m\u001b[1;33m(\u001b[0m\u001b[1;34m' '\u001b[0m\u001b[1;33m)\u001b[0m\u001b[1;33m\u001b[0m\u001b[0m\n\u001b[0;32m   2145\u001b[0m         \u001b[0mmagic_name\u001b[0m \u001b[1;33m=\u001b[0m \u001b[0mmagic_name\u001b[0m\u001b[1;33m.\u001b[0m\u001b[0mlstrip\u001b[0m\u001b[1;33m(\u001b[0m\u001b[0mprefilter\u001b[0m\u001b[1;33m.\u001b[0m\u001b[0mESC_MAGIC\u001b[0m\u001b[1;33m)\u001b[0m\u001b[1;33m\u001b[0m\u001b[0m\n\u001b[1;32m-> 2146\u001b[1;33m         \u001b[1;32mreturn\u001b[0m \u001b[0mself\u001b[0m\u001b[1;33m.\u001b[0m\u001b[0mrun_line_magic\u001b[0m\u001b[1;33m(\u001b[0m\u001b[0mmagic_name\u001b[0m\u001b[1;33m,\u001b[0m \u001b[0mmagic_arg_s\u001b[0m\u001b[1;33m)\u001b[0m\u001b[1;33m\u001b[0m\u001b[0m\n\u001b[0m\u001b[0;32m   2147\u001b[0m \u001b[1;33m\u001b[0m\u001b[0m\n\u001b[0;32m   2148\u001b[0m     \u001b[1;31m#-------------------------------------------------------------------------\u001b[0m\u001b[1;33m\u001b[0m\u001b[1;33m\u001b[0m\u001b[0m\n",
      "\u001b[1;32m~\\Anaconda3\\lib\\site-packages\\IPython\\core\\interactiveshell.py\u001b[0m in \u001b[0;36mrun_line_magic\u001b[1;34m(self, magic_name, line)\u001b[0m\n\u001b[0;32m   2065\u001b[0m                 \u001b[0mkwargs\u001b[0m\u001b[1;33m[\u001b[0m\u001b[1;34m'local_ns'\u001b[0m\u001b[1;33m]\u001b[0m \u001b[1;33m=\u001b[0m \u001b[0msys\u001b[0m\u001b[1;33m.\u001b[0m\u001b[0m_getframe\u001b[0m\u001b[1;33m(\u001b[0m\u001b[0mstack_depth\u001b[0m\u001b[1;33m)\u001b[0m\u001b[1;33m.\u001b[0m\u001b[0mf_locals\u001b[0m\u001b[1;33m\u001b[0m\u001b[0m\n\u001b[0;32m   2066\u001b[0m             \u001b[1;32mwith\u001b[0m \u001b[0mself\u001b[0m\u001b[1;33m.\u001b[0m\u001b[0mbuiltin_trap\u001b[0m\u001b[1;33m:\u001b[0m\u001b[1;33m\u001b[0m\u001b[0m\n\u001b[1;32m-> 2067\u001b[1;33m                 \u001b[0mresult\u001b[0m \u001b[1;33m=\u001b[0m \u001b[0mfn\u001b[0m\u001b[1;33m(\u001b[0m\u001b[1;33m*\u001b[0m\u001b[0margs\u001b[0m\u001b[1;33m,\u001b[0m\u001b[1;33m**\u001b[0m\u001b[0mkwargs\u001b[0m\u001b[1;33m)\u001b[0m\u001b[1;33m\u001b[0m\u001b[0m\n\u001b[0m\u001b[0;32m   2068\u001b[0m             \u001b[1;32mreturn\u001b[0m \u001b[0mresult\u001b[0m\u001b[1;33m\u001b[0m\u001b[0m\n\u001b[0;32m   2069\u001b[0m \u001b[1;33m\u001b[0m\u001b[0m\n",
      "\u001b[1;32m<decorator-gen-66>\u001b[0m in \u001b[0;36mload_ext\u001b[1;34m(self, module_str)\u001b[0m\n",
      "\u001b[1;32m~\\Anaconda3\\lib\\site-packages\\IPython\\core\\magic.py\u001b[0m in \u001b[0;36m<lambda>\u001b[1;34m(f, *a, **k)\u001b[0m\n\u001b[0;32m    185\u001b[0m     \u001b[1;31m# but it's overkill for just that one bit of state.\u001b[0m\u001b[1;33m\u001b[0m\u001b[1;33m\u001b[0m\u001b[0m\n\u001b[0;32m    186\u001b[0m     \u001b[1;32mdef\u001b[0m \u001b[0mmagic_deco\u001b[0m\u001b[1;33m(\u001b[0m\u001b[0marg\u001b[0m\u001b[1;33m)\u001b[0m\u001b[1;33m:\u001b[0m\u001b[1;33m\u001b[0m\u001b[0m\n\u001b[1;32m--> 187\u001b[1;33m         \u001b[0mcall\u001b[0m \u001b[1;33m=\u001b[0m \u001b[1;32mlambda\u001b[0m \u001b[0mf\u001b[0m\u001b[1;33m,\u001b[0m \u001b[1;33m*\u001b[0m\u001b[0ma\u001b[0m\u001b[1;33m,\u001b[0m \u001b[1;33m**\u001b[0m\u001b[0mk\u001b[0m\u001b[1;33m:\u001b[0m \u001b[0mf\u001b[0m\u001b[1;33m(\u001b[0m\u001b[1;33m*\u001b[0m\u001b[0ma\u001b[0m\u001b[1;33m,\u001b[0m \u001b[1;33m**\u001b[0m\u001b[0mk\u001b[0m\u001b[1;33m)\u001b[0m\u001b[1;33m\u001b[0m\u001b[0m\n\u001b[0m\u001b[0;32m    188\u001b[0m \u001b[1;33m\u001b[0m\u001b[0m\n\u001b[0;32m    189\u001b[0m         \u001b[1;32mif\u001b[0m \u001b[0mcallable\u001b[0m\u001b[1;33m(\u001b[0m\u001b[0marg\u001b[0m\u001b[1;33m)\u001b[0m\u001b[1;33m:\u001b[0m\u001b[1;33m\u001b[0m\u001b[0m\n",
      "\u001b[1;32m~\\Anaconda3\\lib\\site-packages\\IPython\\core\\magics\\extension.py\u001b[0m in \u001b[0;36mload_ext\u001b[1;34m(self, module_str)\u001b[0m\n\u001b[0;32m     31\u001b[0m         \u001b[1;32mif\u001b[0m \u001b[1;32mnot\u001b[0m \u001b[0mmodule_str\u001b[0m\u001b[1;33m:\u001b[0m\u001b[1;33m\u001b[0m\u001b[0m\n\u001b[0;32m     32\u001b[0m             \u001b[1;32mraise\u001b[0m \u001b[0mUsageError\u001b[0m\u001b[1;33m(\u001b[0m\u001b[1;34m'Missing module name.'\u001b[0m\u001b[1;33m)\u001b[0m\u001b[1;33m\u001b[0m\u001b[0m\n\u001b[1;32m---> 33\u001b[1;33m         \u001b[0mres\u001b[0m \u001b[1;33m=\u001b[0m \u001b[0mself\u001b[0m\u001b[1;33m.\u001b[0m\u001b[0mshell\u001b[0m\u001b[1;33m.\u001b[0m\u001b[0mextension_manager\u001b[0m\u001b[1;33m.\u001b[0m\u001b[0mload_extension\u001b[0m\u001b[1;33m(\u001b[0m\u001b[0mmodule_str\u001b[0m\u001b[1;33m)\u001b[0m\u001b[1;33m\u001b[0m\u001b[0m\n\u001b[0m\u001b[0;32m     34\u001b[0m \u001b[1;33m\u001b[0m\u001b[0m\n\u001b[0;32m     35\u001b[0m         \u001b[1;32mif\u001b[0m \u001b[0mres\u001b[0m \u001b[1;33m==\u001b[0m \u001b[1;34m'already loaded'\u001b[0m\u001b[1;33m:\u001b[0m\u001b[1;33m\u001b[0m\u001b[0m\n",
      "\u001b[1;32m~\\Anaconda3\\lib\\site-packages\\IPython\\core\\extensions.py\u001b[0m in \u001b[0;36mload_extension\u001b[1;34m(self, module_str)\u001b[0m\n\u001b[0;32m     83\u001b[0m             \u001b[1;32mif\u001b[0m \u001b[0mmodule_str\u001b[0m \u001b[1;32mnot\u001b[0m \u001b[1;32min\u001b[0m \u001b[0msys\u001b[0m\u001b[1;33m.\u001b[0m\u001b[0mmodules\u001b[0m\u001b[1;33m:\u001b[0m\u001b[1;33m\u001b[0m\u001b[0m\n\u001b[0;32m     84\u001b[0m                 \u001b[1;32mwith\u001b[0m \u001b[0mprepended_to_syspath\u001b[0m\u001b[1;33m(\u001b[0m\u001b[0mself\u001b[0m\u001b[1;33m.\u001b[0m\u001b[0mipython_extension_dir\u001b[0m\u001b[1;33m)\u001b[0m\u001b[1;33m:\u001b[0m\u001b[1;33m\u001b[0m\u001b[0m\n\u001b[1;32m---> 85\u001b[1;33m                     \u001b[0mmod\u001b[0m \u001b[1;33m=\u001b[0m \u001b[0mimport_module\u001b[0m\u001b[1;33m(\u001b[0m\u001b[0mmodule_str\u001b[0m\u001b[1;33m)\u001b[0m\u001b[1;33m\u001b[0m\u001b[0m\n\u001b[0m\u001b[0;32m     86\u001b[0m                     \u001b[1;32mif\u001b[0m \u001b[0mmod\u001b[0m\u001b[1;33m.\u001b[0m\u001b[0m__file__\u001b[0m\u001b[1;33m.\u001b[0m\u001b[0mstartswith\u001b[0m\u001b[1;33m(\u001b[0m\u001b[0mself\u001b[0m\u001b[1;33m.\u001b[0m\u001b[0mipython_extension_dir\u001b[0m\u001b[1;33m)\u001b[0m\u001b[1;33m:\u001b[0m\u001b[1;33m\u001b[0m\u001b[0m\n\u001b[0;32m     87\u001b[0m                         print((\"Loading extensions from {dir} is deprecated. \"\n",
      "\u001b[1;32m~\\Anaconda3\\lib\\importlib\\__init__.py\u001b[0m in \u001b[0;36mimport_module\u001b[1;34m(name, package)\u001b[0m\n\u001b[0;32m    124\u001b[0m                 \u001b[1;32mbreak\u001b[0m\u001b[1;33m\u001b[0m\u001b[0m\n\u001b[0;32m    125\u001b[0m             \u001b[0mlevel\u001b[0m \u001b[1;33m+=\u001b[0m \u001b[1;36m1\u001b[0m\u001b[1;33m\u001b[0m\u001b[0m\n\u001b[1;32m--> 126\u001b[1;33m     \u001b[1;32mreturn\u001b[0m \u001b[0m_bootstrap\u001b[0m\u001b[1;33m.\u001b[0m\u001b[0m_gcd_import\u001b[0m\u001b[1;33m(\u001b[0m\u001b[0mname\u001b[0m\u001b[1;33m[\u001b[0m\u001b[0mlevel\u001b[0m\u001b[1;33m:\u001b[0m\u001b[1;33m]\u001b[0m\u001b[1;33m,\u001b[0m \u001b[0mpackage\u001b[0m\u001b[1;33m,\u001b[0m \u001b[0mlevel\u001b[0m\u001b[1;33m)\u001b[0m\u001b[1;33m\u001b[0m\u001b[0m\n\u001b[0m\u001b[0;32m    127\u001b[0m \u001b[1;33m\u001b[0m\u001b[0m\n\u001b[0;32m    128\u001b[0m \u001b[1;33m\u001b[0m\u001b[0m\n",
      "\u001b[1;32m~\\Anaconda3\\lib\\importlib\\_bootstrap.py\u001b[0m in \u001b[0;36m_gcd_import\u001b[1;34m(name, package, level)\u001b[0m\n",
      "\u001b[1;32m~\\Anaconda3\\lib\\importlib\\_bootstrap.py\u001b[0m in \u001b[0;36m_find_and_load\u001b[1;34m(name, import_)\u001b[0m\n",
      "\u001b[1;32m~\\Anaconda3\\lib\\importlib\\_bootstrap.py\u001b[0m in \u001b[0;36m_find_and_load_unlocked\u001b[1;34m(name, import_)\u001b[0m\n",
      "\u001b[1;32m~\\Anaconda3\\lib\\importlib\\_bootstrap.py\u001b[0m in \u001b[0;36m_load_unlocked\u001b[1;34m(spec)\u001b[0m\n",
      "\u001b[1;32m~\\Anaconda3\\lib\\importlib\\_bootstrap_external.py\u001b[0m in \u001b[0;36mexec_module\u001b[1;34m(self, module)\u001b[0m\n",
      "\u001b[1;32m~\\Anaconda3\\lib\\importlib\\_bootstrap.py\u001b[0m in \u001b[0;36m_call_with_frames_removed\u001b[1;34m(f, *args, **kwds)\u001b[0m\n",
      "\u001b[1;32m~\\Anaconda3\\lib\\site-packages\\rpy2-2.9.1-py3.6-win-amd64.egg\\rpy2\\ipython\\__init__.py\u001b[0m in \u001b[0;36m<module>\u001b[1;34m()\u001b[0m\n\u001b[1;32m----> 1\u001b[1;33m \u001b[1;32mfrom\u001b[0m \u001b[1;33m.\u001b[0m\u001b[0mrmagic\u001b[0m \u001b[1;32mimport\u001b[0m \u001b[0mload_ipython_extension\u001b[0m\u001b[1;33m\u001b[0m\u001b[0m\n\u001b[0m",
      "\u001b[1;32m~\\Anaconda3\\lib\\site-packages\\rpy2-2.9.1-py3.6-win-amd64.egg\\rpy2\\ipython\\rmagic.py\u001b[0m in \u001b[0;36m<module>\u001b[1;34m()\u001b[0m\n\u001b[0;32m     51\u001b[0m \u001b[1;31m# numpy and rpy2 imports\u001b[0m\u001b[1;33m\u001b[0m\u001b[1;33m\u001b[0m\u001b[0m\n\u001b[0;32m     52\u001b[0m \u001b[1;33m\u001b[0m\u001b[0m\n\u001b[1;32m---> 53\u001b[1;33m \u001b[1;32mimport\u001b[0m \u001b[0mrpy2\u001b[0m\u001b[1;33m.\u001b[0m\u001b[0mrinterface\u001b[0m \u001b[1;32mas\u001b[0m \u001b[0mri\u001b[0m\u001b[1;33m\u001b[0m\u001b[0m\n\u001b[0m\u001b[0;32m     54\u001b[0m \u001b[1;32mimport\u001b[0m \u001b[0mrpy2\u001b[0m\u001b[1;33m.\u001b[0m\u001b[0mrobjects\u001b[0m \u001b[1;32mas\u001b[0m \u001b[0mro\u001b[0m\u001b[1;33m\u001b[0m\u001b[0m\n\u001b[0;32m     55\u001b[0m \u001b[1;32mimport\u001b[0m \u001b[0mrpy2\u001b[0m\u001b[1;33m.\u001b[0m\u001b[0mrobjects\u001b[0m\u001b[1;33m.\u001b[0m\u001b[0mpackages\u001b[0m \u001b[1;32mas\u001b[0m \u001b[0mrpacks\u001b[0m\u001b[1;33m\u001b[0m\u001b[0m\n",
      "\u001b[1;32m~\\Anaconda3\\lib\\site-packages\\rpy2-2.9.1-py3.6-win-amd64.egg\\rpy2\\rinterface\\__init__.py\u001b[0m in \u001b[0;36m<module>\u001b[1;34m()\u001b[0m\n\u001b[0;32m     48\u001b[0m \u001b[1;32mdel\u001b[0m\u001b[1;33m(\u001b[0m\u001b[0mos\u001b[0m\u001b[1;33m)\u001b[0m\u001b[1;33m\u001b[0m\u001b[0m\n\u001b[0;32m     49\u001b[0m \u001b[1;33m\u001b[0m\u001b[0m\n\u001b[1;32m---> 50\u001b[1;33m from rpy2.rinterface._rinterface import (baseenv,\n\u001b[0m\u001b[0;32m     51\u001b[0m                                          \u001b[0memptyenv\u001b[0m\u001b[1;33m,\u001b[0m\u001b[1;33m\u001b[0m\u001b[0m\n\u001b[0;32m     52\u001b[0m                                          \u001b[0mendr\u001b[0m\u001b[1;33m,\u001b[0m\u001b[1;33m\u001b[0m\u001b[0m\n",
      "\u001b[1;31mImportError\u001b[0m: DLL load failed: The specified procedure could not be found."
     ]
    }
   ],
   "source": [
    "import rpy2\n",
    "%load_ext rpy2.ipython"
   ]
  },
  {
   "cell_type": "code",
   "execution_count": null,
   "metadata": {},
   "outputs": [],
   "source": [
    "#%R -i D\n",
    "#summary(D)\n",
    "#library(nclust)\n",
    "#fit = Mclust(D)\n",
    "#plot(fit,what = 'uncertainty')"
   ]
  },
  {
   "cell_type": "code",
   "execution_count": null,
   "metadata": {},
   "outputs": [],
   "source": []
  },
  {
   "cell_type": "code",
   "execution_count": null,
   "metadata": {},
   "outputs": [],
   "source": []
  }
 ],
 "metadata": {
  "kernelspec": {
   "display_name": "Python 3",
   "language": "python",
   "name": "python3"
  },
  "language_info": {
   "codemirror_mode": {
    "name": "ipython",
    "version": 3
   },
   "file_extension": ".py",
   "mimetype": "text/x-python",
   "name": "python",
   "nbconvert_exporter": "python",
   "pygments_lexer": "ipython3",
   "version": "3.6.3"
  }
 },
 "nbformat": 4,
 "nbformat_minor": 2
}
