{
 "cells": [
  {
   "cell_type": "markdown",
   "metadata": {},
   "source": [
    "# Suppose a data is given with all names.We have to count the first letter of all the names and plot the frequency table."
   ]
  },
  {
   "cell_type": "code",
   "execution_count": 71,
   "metadata": {},
   "outputs": [],
   "source": [
    "#import libraries\n",
    "\n",
    "import numpy as np\n",
    "import pandas as pd"
   ]
  },
  {
   "cell_type": "code",
   "execution_count": 72,
   "metadata": {},
   "outputs": [],
   "source": [
    "data = pd.read_csv(\"name.csv\")#read data"
   ]
  },
  {
   "cell_type": "code",
   "execution_count": 73,
   "metadata": {},
   "outputs": [
    {
     "data": {
      "text/html": [
       "<div>\n",
       "<style>\n",
       "    .dataframe thead tr:only-child th {\n",
       "        text-align: right;\n",
       "    }\n",
       "\n",
       "    .dataframe thead th {\n",
       "        text-align: left;\n",
       "    }\n",
       "\n",
       "    .dataframe tbody tr th {\n",
       "        vertical-align: top;\n",
       "    }\n",
       "</style>\n",
       "<table border=\"1\" class=\"dataframe\">\n",
       "  <thead>\n",
       "    <tr style=\"text-align: right;\">\n",
       "      <th></th>\n",
       "      <th>barjraj</th>\n",
       "    </tr>\n",
       "  </thead>\n",
       "  <tbody>\n",
       "    <tr>\n",
       "      <th>0</th>\n",
       "      <td>ramdin verma</td>\n",
       "    </tr>\n",
       "    <tr>\n",
       "      <th>1</th>\n",
       "      <td>sharat chandran</td>\n",
       "    </tr>\n",
       "    <tr>\n",
       "      <th>2</th>\n",
       "      <td>birender mandal</td>\n",
       "    </tr>\n",
       "    <tr>\n",
       "      <th>3</th>\n",
       "      <td>amit</td>\n",
       "    </tr>\n",
       "    <tr>\n",
       "      <th>4</th>\n",
       "      <td>kushal</td>\n",
       "    </tr>\n",
       "    <tr>\n",
       "      <th>5</th>\n",
       "      <td>kasid</td>\n",
       "    </tr>\n",
       "    <tr>\n",
       "      <th>6</th>\n",
       "      <td>shiv prakash</td>\n",
       "    </tr>\n",
       "    <tr>\n",
       "      <th>7</th>\n",
       "      <td>vikram singh</td>\n",
       "    </tr>\n",
       "    <tr>\n",
       "      <th>8</th>\n",
       "      <td>sanjay</td>\n",
       "    </tr>\n",
       "    <tr>\n",
       "      <th>9</th>\n",
       "      <td>abhi</td>\n",
       "    </tr>\n",
       "    <tr>\n",
       "      <th>10</th>\n",
       "      <td>ram dutt gupta</td>\n",
       "    </tr>\n",
       "    <tr>\n",
       "      <th>11</th>\n",
       "      <td>khadak singh</td>\n",
       "    </tr>\n",
       "    <tr>\n",
       "      <th>12</th>\n",
       "      <td>gurmit singh</td>\n",
       "    </tr>\n",
       "    <tr>\n",
       "      <th>13</th>\n",
       "      <td>chanderpal</td>\n",
       "    </tr>\n",
       "    <tr>\n",
       "      <th>14</th>\n",
       "      <td>aman</td>\n",
       "    </tr>\n",
       "    <tr>\n",
       "      <th>15</th>\n",
       "      <td>khursid</td>\n",
       "    </tr>\n",
       "    <tr>\n",
       "      <th>16</th>\n",
       "      <td>rajeev</td>\n",
       "    </tr>\n",
       "    <tr>\n",
       "      <th>17</th>\n",
       "      <td>durgesh</td>\n",
       "    </tr>\n",
       "    <tr>\n",
       "      <th>18</th>\n",
       "      <td>nahar singh</td>\n",
       "    </tr>\n",
       "    <tr>\n",
       "      <th>19</th>\n",
       "      <td>ram kumar</td>\n",
       "    </tr>\n",
       "    <tr>\n",
       "      <th>20</th>\n",
       "      <td>sunder paal</td>\n",
       "    </tr>\n",
       "    <tr>\n",
       "      <th>21</th>\n",
       "      <td>maansingh aswal</td>\n",
       "    </tr>\n",
       "    <tr>\n",
       "      <th>22</th>\n",
       "      <td>rohit</td>\n",
       "    </tr>\n",
       "    <tr>\n",
       "      <th>23</th>\n",
       "      <td>rohit</td>\n",
       "    </tr>\n",
       "    <tr>\n",
       "      <th>24</th>\n",
       "      <td>sparsh</td>\n",
       "    </tr>\n",
       "    <tr>\n",
       "      <th>25</th>\n",
       "      <td>santosh</td>\n",
       "    </tr>\n",
       "    <tr>\n",
       "      <th>26</th>\n",
       "      <td>santosh</td>\n",
       "    </tr>\n",
       "    <tr>\n",
       "      <th>27</th>\n",
       "      <td>punit khandelwal</td>\n",
       "    </tr>\n",
       "    <tr>\n",
       "      <th>28</th>\n",
       "      <td>dinesh</td>\n",
       "    </tr>\n",
       "    <tr>\n",
       "      <th>29</th>\n",
       "      <td>gulshan</td>\n",
       "    </tr>\n",
       "    <tr>\n",
       "      <th>...</th>\n",
       "      <td>...</td>\n",
       "    </tr>\n",
       "    <tr>\n",
       "      <th>69</th>\n",
       "      <td>pooran chand sharma</td>\n",
       "    </tr>\n",
       "    <tr>\n",
       "      <th>70</th>\n",
       "      <td>irfan</td>\n",
       "    </tr>\n",
       "    <tr>\n",
       "      <th>71</th>\n",
       "      <td>azaruddin</td>\n",
       "    </tr>\n",
       "    <tr>\n",
       "      <th>72</th>\n",
       "      <td>mukul yadav</td>\n",
       "    </tr>\n",
       "    <tr>\n",
       "      <th>73</th>\n",
       "      <td>pooran chand sharma</td>\n",
       "    </tr>\n",
       "    <tr>\n",
       "      <th>74</th>\n",
       "      <td>manoj</td>\n",
       "    </tr>\n",
       "    <tr>\n",
       "      <th>75</th>\n",
       "      <td>sanjay charee</td>\n",
       "    </tr>\n",
       "    <tr>\n",
       "      <th>76</th>\n",
       "      <td>raja babu</td>\n",
       "    </tr>\n",
       "    <tr>\n",
       "      <th>77</th>\n",
       "      <td>pawan</td>\n",
       "    </tr>\n",
       "    <tr>\n",
       "      <th>78</th>\n",
       "      <td>sandeep</td>\n",
       "    </tr>\n",
       "    <tr>\n",
       "      <th>79</th>\n",
       "      <td>rajkumar chawla</td>\n",
       "    </tr>\n",
       "    <tr>\n",
       "      <th>80</th>\n",
       "      <td>parvesh</td>\n",
       "    </tr>\n",
       "    <tr>\n",
       "      <th>81</th>\n",
       "      <td>mohd ataullah</td>\n",
       "    </tr>\n",
       "    <tr>\n",
       "      <th>82</th>\n",
       "      <td>neeraj kumar</td>\n",
       "    </tr>\n",
       "    <tr>\n",
       "      <th>83</th>\n",
       "      <td>jamil khan</td>\n",
       "    </tr>\n",
       "    <tr>\n",
       "      <th>84</th>\n",
       "      <td>yogita</td>\n",
       "    </tr>\n",
       "    <tr>\n",
       "      <th>85</th>\n",
       "      <td>rijul aggarwal</td>\n",
       "    </tr>\n",
       "    <tr>\n",
       "      <th>86</th>\n",
       "      <td>mohd shakib</td>\n",
       "    </tr>\n",
       "    <tr>\n",
       "      <th>87</th>\n",
       "      <td>rahul kumar</td>\n",
       "    </tr>\n",
       "    <tr>\n",
       "      <th>88</th>\n",
       "      <td>rajender</td>\n",
       "    </tr>\n",
       "    <tr>\n",
       "      <th>89</th>\n",
       "      <td>suraj</td>\n",
       "    </tr>\n",
       "    <tr>\n",
       "      <th>90</th>\n",
       "      <td>rizwan</td>\n",
       "    </tr>\n",
       "    <tr>\n",
       "      <th>91</th>\n",
       "      <td>sandeep</td>\n",
       "    </tr>\n",
       "    <tr>\n",
       "      <th>92</th>\n",
       "      <td>md mustafa</td>\n",
       "    </tr>\n",
       "    <tr>\n",
       "      <th>93</th>\n",
       "      <td>har parsad</td>\n",
       "    </tr>\n",
       "    <tr>\n",
       "      <th>94</th>\n",
       "      <td>deepak</td>\n",
       "    </tr>\n",
       "    <tr>\n",
       "      <th>95</th>\n",
       "      <td>rahul</td>\n",
       "    </tr>\n",
       "    <tr>\n",
       "      <th>96</th>\n",
       "      <td>abhishekh</td>\n",
       "    </tr>\n",
       "    <tr>\n",
       "      <th>97</th>\n",
       "      <td>shelender yadav</td>\n",
       "    </tr>\n",
       "    <tr>\n",
       "      <th>98</th>\n",
       "      <td>sanjay</td>\n",
       "    </tr>\n",
       "  </tbody>\n",
       "</table>\n",
       "<p>99 rows × 1 columns</p>\n",
       "</div>"
      ],
      "text/plain": [
       "                barjraj\n",
       "0          ramdin verma\n",
       "1       sharat chandran\n",
       "2       birender mandal\n",
       "3                  amit\n",
       "4                kushal\n",
       "5                 kasid\n",
       "6          shiv prakash\n",
       "7          vikram singh\n",
       "8                sanjay\n",
       "9                  abhi\n",
       "10       ram dutt gupta\n",
       "11         khadak singh\n",
       "12         gurmit singh\n",
       "13           chanderpal\n",
       "14                 aman\n",
       "15              khursid\n",
       "16               rajeev\n",
       "17              durgesh\n",
       "18          nahar singh\n",
       "19            ram kumar\n",
       "20          sunder paal\n",
       "21      maansingh aswal\n",
       "22                rohit\n",
       "23                rohit\n",
       "24               sparsh\n",
       "25              santosh\n",
       "26              santosh\n",
       "27     punit khandelwal\n",
       "28               dinesh\n",
       "29              gulshan\n",
       "..                  ...\n",
       "69  pooran chand sharma\n",
       "70                irfan\n",
       "71            azaruddin\n",
       "72          mukul yadav\n",
       "73  pooran chand sharma\n",
       "74                manoj\n",
       "75        sanjay charee\n",
       "76            raja babu\n",
       "77                pawan\n",
       "78              sandeep\n",
       "79      rajkumar chawla\n",
       "80              parvesh\n",
       "81        mohd ataullah\n",
       "82         neeraj kumar\n",
       "83           jamil khan\n",
       "84               yogita\n",
       "85       rijul aggarwal\n",
       "86          mohd shakib\n",
       "87          rahul kumar\n",
       "88             rajender\n",
       "89                suraj\n",
       "90               rizwan\n",
       "91              sandeep\n",
       "92           md mustafa\n",
       "93           har parsad\n",
       "94               deepak\n",
       "95                rahul\n",
       "96            abhishekh\n",
       "97      shelender yadav\n",
       "98               sanjay\n",
       "\n",
       "[99 rows x 1 columns]"
      ]
     },
     "execution_count": 73,
     "metadata": {},
     "output_type": "execute_result"
    }
   ],
   "source": [
    "data    # print data"
   ]
  },
  {
   "cell_type": "code",
   "execution_count": 74,
   "metadata": {},
   "outputs": [
    {
     "data": {
      "text/plain": [
       "(99, 1)"
      ]
     },
     "execution_count": 74,
     "metadata": {},
     "output_type": "execute_result"
    }
   ],
   "source": [
    "data.shape #data shape"
   ]
  },
  {
   "cell_type": "code",
   "execution_count": 75,
   "metadata": {},
   "outputs": [
    {
     "data": {
      "text/html": [
       "<div>\n",
       "<style>\n",
       "    .dataframe thead tr:only-child th {\n",
       "        text-align: right;\n",
       "    }\n",
       "\n",
       "    .dataframe thead th {\n",
       "        text-align: left;\n",
       "    }\n",
       "\n",
       "    .dataframe tbody tr th {\n",
       "        vertical-align: top;\n",
       "    }\n",
       "</style>\n",
       "<table border=\"1\" class=\"dataframe\">\n",
       "  <thead>\n",
       "    <tr style=\"text-align: right;\">\n",
       "      <th></th>\n",
       "      <th>barjraj</th>\n",
       "    </tr>\n",
       "  </thead>\n",
       "  <tbody>\n",
       "    <tr>\n",
       "      <th>count</th>\n",
       "      <td>99</td>\n",
       "    </tr>\n",
       "    <tr>\n",
       "      <th>unique</th>\n",
       "      <td>88</td>\n",
       "    </tr>\n",
       "    <tr>\n",
       "      <th>top</th>\n",
       "      <td>rohit</td>\n",
       "    </tr>\n",
       "    <tr>\n",
       "      <th>freq</th>\n",
       "      <td>4</td>\n",
       "    </tr>\n",
       "  </tbody>\n",
       "</table>\n",
       "</div>"
      ],
      "text/plain": [
       "       barjraj\n",
       "count       99\n",
       "unique      88\n",
       "top      rohit\n",
       "freq         4"
      ]
     },
     "execution_count": 75,
     "metadata": {},
     "output_type": "execute_result"
    }
   ],
   "source": [
    "data.describe() #data description"
   ]
  },
  {
   "cell_type": "code",
   "execution_count": 76,
   "metadata": {},
   "outputs": [
    {
     "name": "stdout",
     "output_type": "stream",
     "text": [
      "[['barjraj'], ['ramdin verma'], ['sharat chandran'], ['birender mandal'], ['amit'], ['kushal'], ['kasid'], ['shiv prakash'], ['vikram singh'], ['sanjay'], ['abhi'], ['ram dutt gupta'], ['khadak singh'], ['gurmit singh'], ['chanderpal'], ['aman'], ['khursid'], ['rajeev'], ['durgesh'], ['nahar singh'], ['ram kumar'], ['sunder paal'], ['maansingh aswal'], ['rohit'], ['rohit'], ['sparsh'], ['santosh'], ['santosh'], ['punit khandelwal'], ['dinesh'], ['gulshan'], ['arvind kumar yadav'], ['nausad'], ['gurmit singh'], ['shiv shakti singh'], ['moti lal'], ['kausal kumar'], ['rohit'], ['rohit'], ['mohabbat ali'], ['raj kumar'], ['jaswant singh'], ['chotelal'], ['amit'], ['rupesh'], ['midda'], ['dharam singh'], ['ram singh'], ['preetam kumar'], ['ram kumar'], ['sarain'], ['pankaj kumar'], ['sheak shakir'], ['riyasat ali'], ['vinit katariya'], ['sumit'], ['arindra'], ['kali charan'], ['badshya khan'], ['vikash'], ['devinder chadda'], ['aman'], ['mohan singh'], ['hemant'], ['shivam'], ['yash mittal'], ['aakash'], ['chandesh'], ['sumit mitra'], ['supriyal sen'], ['pooran chand sharma'], ['irfan'], ['azaruddin'], ['mukul yadav'], ['pooran chand sharma'], ['manoj'], ['sanjay charee'], ['raja babu'], ['pawan'], ['sandeep'], ['rajkumar chawla'], ['parvesh'], ['mohd ataullah'], ['neeraj kumar'], ['jamil khan'], ['yogita'], ['rijul aggarwal'], ['mohd shakib'], ['rahul kumar'], ['rajender'], ['suraj'], ['rizwan'], ['sandeep'], ['md mustafa'], ['har parsad'], ['deepak'], ['rahul'], ['abhishekh'], ['shelender yadav'], ['sanjay']]\n"
     ]
    }
   ],
   "source": [
    "#convert the data into list\n",
    "\n",
    "import csv\n",
    "with open('name.csv', 'r') as f:\n",
    "    reader = csv.reader(f)\n",
    "    data1 = list(reader)\n",
    "print(data1)"
   ]
  },
  {
   "cell_type": "code",
   "execution_count": 77,
   "metadata": {
    "scrolled": true
   },
   "outputs": [],
   "source": [
    "list1 = list(map((lambda x: x[0][:1]),data1))  # counting first letter"
   ]
  },
  {
   "cell_type": "markdown",
   "metadata": {},
   "source": [
    "# This is a common way to count the number without any function"
   ]
  },
  {
   "cell_type": "code",
   "execution_count": 78,
   "metadata": {},
   "outputs": [
    {
     "name": "stdout",
     "output_type": "stream",
     "text": [
      "a = 10\n",
      "b = 3\n",
      "c = 3\n",
      "d = 5\n",
      "g = 3\n",
      "h = 2\n",
      "i = 1\n",
      "j = 2\n",
      "k = 6\n",
      "m = 10\n",
      "n = 3\n",
      "p = 7\n",
      "r = 20\n",
      "s = 20\n",
      "v = 3\n",
      "y = 2\n"
     ]
    }
   ],
   "source": [
    "print(\"a =\", list1.count('a'))\n",
    "print(\"b =\", list1.count('b'))\n",
    "print(\"c =\", list1.count('c'))\n",
    "print(\"d =\", list1.count('d'))\n",
    "print(\"g =\", list1.count('g'))\n",
    "print(\"h =\", list1.count('h'))\n",
    "print(\"i =\", list1.count('i'))\n",
    "print(\"j =\", list1.count('j'))\n",
    "print(\"k =\", list1.count('k'))\n",
    "print(\"m =\", list1.count('m'))\n",
    "print(\"n =\", list1.count('n'))\n",
    "print(\"p =\", list1.count('p'))\n",
    "print(\"r =\", list1.count('r'))\n",
    "print(\"s =\", list1.count('s'))\n",
    "print(\"v =\", list1.count('v'))\n",
    "print(\"y =\", list1.count('y'))"
   ]
  },
  {
   "cell_type": "markdown",
   "metadata": {},
   "source": [
    "# Counting with the help of function"
   ]
  },
  {
   "cell_type": "code",
   "execution_count": 86,
   "metadata": {},
   "outputs": [],
   "source": [
    "a = pd.DataFrame(list1) #convert list into dataframe"
   ]
  },
  {
   "cell_type": "code",
   "execution_count": 90,
   "metadata": {},
   "outputs": [
    {
     "data": {
      "text/plain": [
       "array(['b', 'r', 's', 'a', 'k', 'v', 'g', 'c', 'd', 'n', 'm', 'p', 'j',\n",
       "       'h', 'y', 'i'], dtype=object)"
      ]
     },
     "execution_count": 90,
     "metadata": {},
     "output_type": "execute_result"
    }
   ],
   "source": [
    "new = a[0].unique()    #print the unique values\n",
    "new   "
   ]
  },
  {
   "cell_type": "code",
   "execution_count": 91,
   "metadata": {},
   "outputs": [],
   "source": [
    "def count(x,y):     # function\n",
    "    for i in x:\n",
    "        print(i,'=', y.count(i))\n"
   ]
  },
  {
   "cell_type": "code",
   "execution_count": 92,
   "metadata": {},
   "outputs": [
    {
     "name": "stdout",
     "output_type": "stream",
     "text": [
      "b = 3\n",
      "r = 20\n",
      "s = 20\n",
      "a = 10\n",
      "k = 6\n",
      "v = 3\n",
      "g = 3\n",
      "c = 3\n",
      "d = 5\n",
      "n = 3\n",
      "m = 10\n",
      "p = 7\n",
      "j = 2\n",
      "h = 2\n",
      "y = 2\n",
      "i = 1\n"
     ]
    }
   ],
   "source": [
    "count(new,list1)    # counting"
   ]
  },
  {
   "cell_type": "code",
   "execution_count": 93,
   "metadata": {},
   "outputs": [
    {
     "data": {
      "text/plain": [
       "100"
      ]
     },
     "execution_count": 93,
     "metadata": {},
     "output_type": "execute_result"
    }
   ],
   "source": [
    "len(list1)"
   ]
  },
  {
   "cell_type": "code",
   "execution_count": 94,
   "metadata": {},
   "outputs": [],
   "source": [
    "import matplotlib.pyplot as plt\n",
    "%matplotlib inline"
   ]
  },
  {
   "cell_type": "code",
   "execution_count": 96,
   "metadata": {},
   "outputs": [
    {
     "data": {
      "text/plain": [
       "<function matplotlib.pyplot.show>"
      ]
     },
     "execution_count": 96,
     "metadata": {},
     "output_type": "execute_result"
    },
    {
     "data": {
      "image/png": "[encoded data removed]",
      "text/plain": [
       "<matplotlib.figure.Figure at 0x9b0b408160>"
      ]
     },
     "metadata": {},
     "output_type": "display_data"
    }
   ],
   "source": [
    "plt.hist(list1)\n",
    "plt.show"
   ]
  }
 ],
 "metadata": {
  "kernelspec": {
   "display_name": "Python 3",
   "language": "python",
   "name": "python3"
  },
  "language_info": {
   "codemirror_mode": {
    "name": "ipython",
    "version": 3
   },
   "file_extension": ".py",
   "mimetype": "text/x-python",
   "name": "python",
   "nbconvert_exporter": "python",
   "pygments_lexer": "ipython3",
   "version": "3.6.3"
  }
 },
 "nbformat": 4,
 "nbformat_minor": 2
}
